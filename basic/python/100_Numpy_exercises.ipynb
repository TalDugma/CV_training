{
 "cells": [
  {
   "cell_type": "markdown",
   "id": "5a28b949",
   "metadata": {},
   "source": [
    "# 100 numpy exercises\n",
    "\n",
    "This is a collection of exercises that have been collected in the numpy mailing list, on stack overflow\n",
    "and in the numpy documentation. The goal of this collection is to offer a quick reference for both old\n",
    "and new users but also to provide a set of exercises for those who teach.\n",
    "\n",
    "\n",
    "If you find an error or think you've a better way to solve some of them, feel\n",
    "free to open an issue at <https://github.com/rougier/numpy-100>."
   ]
  },
  {
   "cell_type": "markdown",
   "id": "3f7a87ec",
   "metadata": {},
   "source": [
    "File automatically generated. See the documentation to update questions/answers/hints programmatically."
   ]
  },
  {
   "cell_type": "markdown",
   "id": "854ecf1b",
   "metadata": {},
   "source": [
    "Run the `initialise.py` module, then for each question you can query the\n",
    "answer or an hint with `hint(n)` or `answer(n)` for `n` question number."
   ]
  },
  {
   "cell_type": "markdown",
   "id": "37f5e461",
   "metadata": {},
   "source": [
    "Answers for questions:\n",
    "15, 19, 25, 35, 37, 42, 47, 50, 53, 58, 59, 64, 68, 69, 71, 75, 76, 84, 87, 89, 90, 96, 97, 100"
   ]
  },
  {
   "cell_type": "markdown",
   "id": "c00df986",
   "metadata": {},
   "source": [
    "#### 1. Import the numpy package under the name `np` (★☆☆)"
   ]
  },
  {
   "cell_type": "code",
   "execution_count": 3,
   "id": "35bde95c",
   "metadata": {},
   "outputs": [],
   "source": [
    "import numpy as np"
   ]
  },
  {
   "cell_type": "markdown",
   "id": "b8dee0f2",
   "metadata": {},
   "source": [
    "#### 15. Create a 2d array with 1 on the border and 0 inside (★☆☆)"
   ]
  },
  {
   "cell_type": "code",
   "execution_count": 4,
   "id": "7054464b",
   "metadata": {},
   "outputs": [
    {
     "name": "stdout",
     "output_type": "stream",
     "text": [
      "[[1. 1. 1. 1. 1.]\n",
      " [1. 0. 0. 0. 1.]\n",
      " [1. 0. 0. 0. 1.]\n",
      " [1. 0. 0. 0. 1.]\n",
      " [1. 1. 1. 1. 1.]]\n"
     ]
    }
   ],
   "source": [
    "def build_2d_array_1border_0inside(n=3):\n",
    "    if n <1:\n",
    "        print(\"invalid shape\")\n",
    "        return None\n",
    "    elif n==1:\n",
    "        return np.array([1])        \n",
    "    # Start with zeros 2d array\n",
    "    array = np.zeros((n,n))\n",
    "    # fill borders with ones\n",
    "    num_rows, num_cols = np.shape(array)\n",
    "    for row in range(num_rows):\n",
    "        array[row,0] = 1\n",
    "        array[row,-1] = 1\n",
    "    # fill first and last rows with ones\n",
    "    array[0,:] = 1\n",
    "    array[-1,:] = 1\n",
    "    return array\n",
    "\n",
    "print(build_2d_array_1border_0inside(n=5))\n",
    "\n",
    "\n"
   ]
  },
  {
   "cell_type": "markdown",
   "id": "3dc05e9f",
   "metadata": {},
   "source": [
    "#### 19. Create a 8x8 matrix and fill it with a checkerboard pattern (★☆☆)"
   ]
  },
  {
   "cell_type": "code",
   "execution_count": 5,
   "id": "0b100b85",
   "metadata": {},
   "outputs": [
    {
     "name": "stdout",
     "output_type": "stream",
     "text": [
      "[[0. 1. 0. 1. 0. 1. 0. 1.]\n",
      " [1. 0. 1. 0. 1. 0. 1. 0.]\n",
      " [0. 1. 0. 1. 0. 1. 0. 1.]\n",
      " [1. 0. 1. 0. 1. 0. 1. 0.]\n",
      " [0. 1. 0. 1. 0. 1. 0. 1.]\n",
      " [1. 0. 1. 0. 1. 0. 1. 0.]\n",
      " [0. 1. 0. 1. 0. 1. 0. 1.]\n",
      " [1. 0. 1. 0. 1. 0. 1. 0.]]\n"
     ]
    }
   ],
   "source": [
    "def checkerboard(n=8):\n",
    "    array = np.zeros((n,n))\n",
    "    rows, cols = np.shape(array)\n",
    "    for row in range(rows):\n",
    "        if row % 2 == 0:\n",
    "            # start with white\n",
    "            ones_indices = [k for k in range(8) if k%2==1] \n",
    "            array[row,ones_indices] = 1\n",
    "        else:\n",
    "            #start with the black\n",
    "            ones_indices = [k for k in range(8) if k%2==0] \n",
    "            array[row,ones_indices] = 1\n",
    "    return array\n",
    "\n",
    "print(checkerboard())\n",
    "\n"
   ]
  },
  {
   "cell_type": "markdown",
   "id": "a46db425",
   "metadata": {},
   "source": [
    "#### 25. Given a 1D array, negate all elements which are between 3 and 8, in place. (★☆☆)"
   ]
  },
  {
   "cell_type": "code",
   "execution_count": 6,
   "id": "86e3d6a8",
   "metadata": {},
   "outputs": [
    {
     "data": {
      "text/plain": [
       "array([ 1.,  2.,  3., -4., -5., -6., -7.,  8.,  9., 10.])"
      ]
     },
     "execution_count": 6,
     "metadata": {},
     "output_type": "execute_result"
    }
   ],
   "source": [
    "array = np.linspace(1,10, num=10)\n",
    "def negate_between3_and8_inplace(array):\n",
    "    array[(array<8) & (array>3)] = -array[(array<8) & (array>3)] \n",
    "    return array\n",
    "negate_between3_and8_inplace(array)"
   ]
  },
  {
   "cell_type": "markdown",
   "id": "e3f8fe94",
   "metadata": {},
   "source": [
    "#### 35. How to compute ((A+B)*(-A/2)) in place (without copy)? (★★☆)"
   ]
  },
  {
   "cell_type": "code",
   "execution_count": null,
   "id": "14e478d5",
   "metadata": {},
   "outputs": [],
   "source": [
    "def compute_35(A,B):\n",
    "    return (A+B)*(- A/2)"
   ]
  },
  {
   "cell_type": "markdown",
   "id": "62628653",
   "metadata": {},
   "source": [
    "#### 37. Create a 5x5 matrix with row values ranging from 0 to 4 (★★☆)"
   ]
  },
  {
   "cell_type": "code",
   "execution_count": 8,
   "id": "e57763b3",
   "metadata": {},
   "outputs": [
    {
     "name": "stdout",
     "output_type": "stream",
     "text": [
      "[[0. 0. 0. 0. 0.]\n",
      " [1. 1. 1. 1. 1.]\n",
      " [2. 2. 2. 2. 2.]\n",
      " [3. 3. 3. 3. 3.]\n",
      " [4. 4. 4. 4. 4.]]\n"
     ]
    }
   ],
   "source": [
    "array = np.zeros((5,5))\n",
    "for row in range(np.shape(array)[0]):\n",
    "    array[row,:] +=row\n",
    "print(array)"
   ]
  },
  {
   "cell_type": "markdown",
   "id": "32d10473",
   "metadata": {},
   "source": [
    "#### 42. Consider two random arrays A and B, check if they are equal (★★☆)"
   ]
  },
  {
   "cell_type": "code",
   "execution_count": 9,
   "id": "5ebb1103",
   "metadata": {},
   "outputs": [
    {
     "name": "stdout",
     "output_type": "stream",
     "text": [
      "False\n",
      "True\n",
      "False\n"
     ]
    }
   ],
   "source": [
    "def check_equality(A,B):\n",
    "    if np.shape(A) != np.shape(B):\n",
    "        return False\n",
    "    equal_indices = (A == B)\n",
    "    if equal_indices.all():\n",
    "        return True\n",
    "    return False\n",
    "A = np.ones((3,3))\n",
    "B = np.zeros((3,3))\n",
    "C = np.ones((3,3))\n",
    "D = np.zeros((4,4))\n",
    "\n",
    "print(check_equality(A,B))\n",
    "print(check_equality(A,C))\n",
    "print(check_equality(B,D))\n",
    "\n"
   ]
  },
  {
   "cell_type": "markdown",
   "id": "bc9c88d3",
   "metadata": {},
   "source": [
    "#### 47. Given two arrays, X and Y, construct the Cauchy matrix C (Cij =1/(xi - yj)) (★★☆)"
   ]
  },
  {
   "cell_type": "code",
   "execution_count": 10,
   "id": "e90ad595",
   "metadata": {},
   "outputs": [
    {
     "name": "stdout",
     "output_type": "stream",
     "text": [
      "[[-0.5        -0.33333333 -0.25       -0.2        -0.16666667]\n",
      " [-1.         -0.5        -0.33333333 -0.25       -0.2       ]\n",
      " [        nan -1.         -0.5        -0.33333333 -0.25      ]\n",
      " [ 1.                 nan -1.         -0.5        -0.33333333]\n",
      " [ 0.5         1.                 nan -1.         -0.5       ]]\n"
     ]
    }
   ],
   "source": [
    "def cauchy_matrix(X,Y):\n",
    "    rows_X = len(X)\n",
    "    cols_Y = len(Y)\n",
    "    C = np.zeros((rows_X, cols_Y))\n",
    "    for i in range(rows_X):\n",
    "        for j in range(cols_Y):\n",
    "            denominator = (X[i] - Y[j])\n",
    "            if denominator == 0:\n",
    "                C[i,j] = np.nan\n",
    "            else:\n",
    "                C[i,j]= 1 / (X[i] - Y[j])\n",
    "    return C\n",
    "\n",
    "X = np.linspace(1,5, num=5)\n",
    "Y = np.linspace(3,7,num=5)\n",
    "print(cauchy_matrix(X,Y))"
   ]
  },
  {
   "cell_type": "markdown",
   "id": "50c62214",
   "metadata": {},
   "source": [
    "#### 50. How to find the closest value (to a given scalar) in a vector? (★★☆)"
   ]
  },
  {
   "cell_type": "code",
   "execution_count": 11,
   "id": "24b45bb5",
   "metadata": {},
   "outputs": [
    {
     "name": "stdout",
     "output_type": "stream",
     "text": [
      "7.0\n"
     ]
    }
   ],
   "source": [
    "v = np.linspace(1,10, num=10)\n",
    "s = 6.6\n",
    "\n",
    "def closest_val(vector, scalar):\n",
    "    min_error = np.inf\n",
    "    closest_value = np.nan\n",
    "    for value in vector:\n",
    "        error = np.abs(scalar - value)\n",
    "        if error < min_error:\n",
    "            closest_val = value\n",
    "            min_error = error\n",
    "    return closest_val\n",
    "\n",
    "print(closest_val(v,s))\n",
    "\n",
    "\n"
   ]
  },
  {
   "cell_type": "markdown",
   "id": "003ff920",
   "metadata": {},
   "source": [
    "#### 53. How to convert a float (32 bits) array into an integer (32 bits) array in place?"
   ]
  },
  {
   "cell_type": "code",
   "execution_count": null,
   "id": "76245e6d",
   "metadata": {},
   "outputs": [
    {
     "name": "stdout",
     "output_type": "stream",
     "text": [
      "[1 2 3 4 5]\n"
     ]
    }
   ],
   "source": [
    "a = np.linspace(1,5,num=5, dtype = float)\n",
    "a = a.astype(int)\n",
    "print(a)"
   ]
  },
  {
   "cell_type": "markdown",
   "id": "270b6834",
   "metadata": {},
   "source": [
    "#### 58. Subtract the mean of each row of a matrix (★★☆)"
   ]
  },
  {
   "cell_type": "code",
   "execution_count": 13,
   "id": "814080c9",
   "metadata": {},
   "outputs": [
    {
     "name": "stdout",
     "output_type": "stream",
     "text": [
      "[[0.75       1.125      1.125     ]\n",
      " [1.36363636 0.81818182 0.81818182]\n",
      " [1.         1.         1.        ]]\n"
     ]
    }
   ],
   "source": [
    "def substract_row_mean(A):\n",
    "    rows, col = np.shape(A)\n",
    "    for row in range(rows):\n",
    "        A[row,:] = A[row,:] / np.mean(A[row,:])\n",
    "    return A\n",
    "\n",
    "A = np.ones((3,3)) * 3\n",
    "A[0][0] -=1\n",
    "A[1][0] += 2\n",
    "print(substract_row_mean(A))\n"
   ]
  },
  {
   "cell_type": "markdown",
   "id": "52c92916",
   "metadata": {},
   "source": [
    "#### 59. How to sort an array by the nth column? (★★☆)"
   ]
  },
  {
   "cell_type": "code",
   "execution_count": null,
   "id": "c6ebac6d",
   "metadata": {},
   "outputs": [
    {
     "name": "stdout",
     "output_type": "stream",
     "text": [
      "[[1 1 3]\n",
      " [1 2 3]\n",
      " [2 4 6]\n",
      " [1 5 0]]\n"
     ]
    }
   ],
   "source": [
    "# *Assuming the exercise meant 2D array\n",
    "n = 1\n",
    "A = np.array([[1,2,3], \n",
    "             [1,1,3],\n",
    "             [1,5,0],\n",
    "             [2,4,6]])\n",
    "def sort_by_nth_col(A,n):\n",
    "    nth_col = A[:,n]\n",
    "    indices = np.argsort(nth_col)\n",
    "    new_A = A.copy()\n",
    "    rows, cols = np.shape(A)\n",
    "    for row in range(rows):\n",
    "        new_A[row] = A[indices[row]]\n",
    "    return new_A\n",
    "\n",
    "print(sort_by_nth_col(A,n))\n"
   ]
  },
  {
   "cell_type": "markdown",
   "id": "f7f5d229",
   "metadata": {},
   "source": [
    "#### 64. Consider a given vector, how to add 1 to each element indexed by a second vector (be careful with repeated indices)? (★★★)"
   ]
  },
  {
   "cell_type": "code",
   "execution_count": 15,
   "id": "9b8f8f48",
   "metadata": {},
   "outputs": [
    {
     "data": {
      "text/plain": [
       "array([0, 2, 3, 3, 4, 6, 7, 7, 8, 9])"
      ]
     },
     "execution_count": 15,
     "metadata": {},
     "output_type": "execute_result"
    }
   ],
   "source": [
    "vector = np.array([0,1,2,3,4,5,6,7,8,9])\n",
    "indices_vector = np.array([5,6,5,2,1])\n",
    "\n",
    "def add_one_to_indiced_element(vector, indices_vector):\n",
    "    # get unique values from indices vector\n",
    "    unique_indices = np.unique(indices_vector)\n",
    "    vector[indices_vector] = vector[indices_vector] + 1\n",
    "    return vector\n",
    "\n",
    "add_one_to_indiced_element(vector, indices_vector)"
   ]
  },
  {
   "cell_type": "markdown",
   "id": "fe8b8107",
   "metadata": {},
   "source": [
    "#### 68. Considering a one-dimensional vector D, how to compute means of subsets of D using a vector S of same size describing subset  indices? (★★★)"
   ]
  },
  {
   "cell_type": "code",
   "execution_count": 16,
   "id": "9c17c8c9",
   "metadata": {},
   "outputs": [
    {
     "name": "stdout",
     "output_type": "stream",
     "text": [
      "[np.float64(3.0), np.float64(3.5), np.float64(6.0)]\n"
     ]
    }
   ],
   "source": [
    "D = np.array([1,2,3,4,5,6,7])\n",
    "S =[[0,1,5],[2,3],[4,6]]\n",
    "def excersize_68(D, S):\n",
    "    means = []\n",
    "    for subset in S:\n",
    "        means.append(np.mean(D[subset]))\n",
    "    return means\n",
    "\n",
    "print(excersize_68(D,S))\n",
    "\n"
   ]
  },
  {
   "cell_type": "markdown",
   "id": "7efa1173",
   "metadata": {},
   "source": [
    "#### 69. How to get the diagonal of a dot product? (★★★)"
   ]
  },
  {
   "cell_type": "code",
   "execution_count": 17,
   "id": "59fc6a51",
   "metadata": {},
   "outputs": [
    {
     "data": {
      "text/plain": [
       "array([ 9, 25,  9])"
      ]
     },
     "execution_count": 17,
     "metadata": {},
     "output_type": "execute_result"
    }
   ],
   "source": [
    "A= np.array([[1,2,3],\n",
    "             [4,5,6],\n",
    "             [7,8,9]])\n",
    "\n",
    "B= np.array([[9,8,7],\n",
    "             [6,5,4],\n",
    "             [3,2,1]])\n",
    "\n",
    "np.diagonal(A*B)"
   ]
  },
  {
   "cell_type": "markdown",
   "id": "fafa05b8",
   "metadata": {},
   "source": [
    "#### 71. Consider an array of dimension (5,5,3), how to multiply it by an array with dimensions (5,5)? (★★★)"
   ]
  },
  {
   "cell_type": "code",
   "execution_count": 18,
   "id": "0dbb5bd4",
   "metadata": {},
   "outputs": [
    {
     "name": "stdout",
     "output_type": "stream",
     "text": [
      "[[[0.38206022 0.06876815 0.25087244]\n",
      "  [0.07408116 0.10072679 0.21116424]\n",
      "  [0.39485815 0.27531104 0.63027362]\n",
      "  [0.83127282 0.53078707 0.09188615]\n",
      "  [0.42748812 0.51331844 0.00812899]]\n",
      "\n",
      " [[0.35062909 0.36743142 0.25497434]\n",
      "  [0.05629511 0.07730051 0.16355636]\n",
      "  [0.02733601 0.85703922 0.50336289]\n",
      "  [0.43563292 0.6039284  0.22592554]\n",
      "  [0.02889698 0.05506446 0.02854885]]\n",
      "\n",
      " [[0.14502924 0.14415605 0.0893784 ]\n",
      "  [0.32650669 0.14347107 0.18181049]\n",
      "  [0.92366925 0.87410022 0.06946653]\n",
      "  [0.22821977 0.14920135 0.09719646]\n",
      "  [0.00548421 0.2075107  0.01351839]]\n",
      "\n",
      " [[0.59364571 0.358945   0.31952135]\n",
      "  [0.04449868 0.09224671 0.11330758]\n",
      "  [0.30458809 0.30188245 0.67036078]\n",
      "  [0.0175895  0.02529912 0.00308186]\n",
      "  [0.46948358 0.28935423 0.33319241]]\n",
      "\n",
      " [[0.29141587 0.27508665 0.38680862]\n",
      "  [0.02648754 0.19671243 0.24820334]\n",
      "  [0.30702157 0.69311654 0.27071387]\n",
      "  [0.01400479 0.01005316 0.06211848]\n",
      "  [0.01148248 0.054635   0.06220536]]]\n"
     ]
    }
   ],
   "source": [
    "A = np.random.rand(5,5,3)\n",
    "B = np.random.rand(5,5)\n",
    "# reshape B to fit As shape\n",
    "a_depth = np.shape(A)[-1]\n",
    "B = B[:, :, np.newaxis]\n",
    "# concatanate B for a.depth times\n",
    "B = np.tile(B, 3)\n",
    "print(A*B)"
   ]
  },
  {
   "cell_type": "markdown",
   "id": "575d8bb4",
   "metadata": {},
   "source": [
    "#### 76. Consider a one-dimensional array Z, build a two-dimensional array whose first row is (Z[0],Z[1],Z[2]) and each subsequent row is  shifted by 1 (last row should be (Z[-3],Z[-2],Z[-1]) (★★★)"
   ]
  },
  {
   "cell_type": "code",
   "execution_count": 19,
   "id": "2a41d341",
   "metadata": {},
   "outputs": [
    {
     "name": "stdout",
     "output_type": "stream",
     "text": [
      "[[1. 2. 3.]\n",
      " [2. 3. 4.]\n",
      " [3. 4. 5.]\n",
      " [4. 5. 6.]\n",
      " [5. 6. 7.]\n",
      " [6. 7. 8.]\n",
      " [7. 8. 9.]]\n"
     ]
    }
   ],
   "source": [
    "Z = np.array([1,2,3, 4,5,6,7,8,9])\n",
    "\n",
    "def exce_76(Z):\n",
    "    n = len(Z) - 2\n",
    "    A = np.zeros((n,3))\n",
    "    for i in range(n):\n",
    "        A[i] = Z[i:i+3]\n",
    "    return A\n",
    "print(exce_76(Z))\n"
   ]
  },
  {
   "cell_type": "markdown",
   "id": "65f370f9",
   "metadata": {},
   "source": [
    "#### 84. Extract all the contiguous 3x3 blocks from a random 10x10 matrix (★★★)"
   ]
  },
  {
   "cell_type": "code",
   "execution_count": 20,
   "id": "65ade1a6",
   "metadata": {},
   "outputs": [
    {
     "name": "stdout",
     "output_type": "stream",
     "text": [
      "[array([[0.54683855, 0.42162051, 0.8789874 ],\n",
      "       [0.97257447, 0.89579584, 0.73830351],\n",
      "       [0.6740285 , 0.51439832, 0.23290849]]), array([[0.42162051, 0.8789874 , 0.24205714],\n",
      "       [0.89579584, 0.73830351, 0.04017856],\n",
      "       [0.51439832, 0.23290849, 0.87785394]]), array([[0.8789874 , 0.24205714, 0.11690367],\n",
      "       [0.73830351, 0.04017856, 0.62708636],\n",
      "       [0.23290849, 0.87785394, 0.90307838]]), array([[0.24205714, 0.11690367, 0.57325596],\n",
      "       [0.04017856, 0.62708636, 0.78093233],\n",
      "       [0.87785394, 0.90307838, 0.62576938]]), array([[0.11690367, 0.57325596, 0.91273384],\n",
      "       [0.62708636, 0.78093233, 0.68893653],\n",
      "       [0.90307838, 0.62576938, 0.95960822]]), array([[0.57325596, 0.91273384, 0.00203784],\n",
      "       [0.78093233, 0.68893653, 0.7122079 ],\n",
      "       [0.62576938, 0.95960822, 0.98197363]]), array([[0.91273384, 0.00203784, 0.46824204],\n",
      "       [0.68893653, 0.7122079 , 0.05243979],\n",
      "       [0.95960822, 0.98197363, 0.89756543]]), array([[0.00203784, 0.46824204, 0.83885167],\n",
      "       [0.7122079 , 0.05243979, 0.84824262],\n",
      "       [0.98197363, 0.89756543, 0.70475477]]), array([[0.97257447, 0.89579584, 0.73830351],\n",
      "       [0.6740285 , 0.51439832, 0.23290849],\n",
      "       [0.7572162 , 0.72984777, 0.99498118]]), array([[0.89579584, 0.73830351, 0.04017856],\n",
      "       [0.51439832, 0.23290849, 0.87785394],\n",
      "       [0.72984777, 0.99498118, 0.99380252]]), array([[0.73830351, 0.04017856, 0.62708636],\n",
      "       [0.23290849, 0.87785394, 0.90307838],\n",
      "       [0.99498118, 0.99380252, 0.91013533]]), array([[0.04017856, 0.62708636, 0.78093233],\n",
      "       [0.87785394, 0.90307838, 0.62576938],\n",
      "       [0.99380252, 0.91013533, 0.76887985]]), array([[0.62708636, 0.78093233, 0.68893653],\n",
      "       [0.90307838, 0.62576938, 0.95960822],\n",
      "       [0.91013533, 0.76887985, 0.79784928]]), array([[0.78093233, 0.68893653, 0.7122079 ],\n",
      "       [0.62576938, 0.95960822, 0.98197363],\n",
      "       [0.76887985, 0.79784928, 0.17789963]]), array([[0.68893653, 0.7122079 , 0.05243979],\n",
      "       [0.95960822, 0.98197363, 0.89756543],\n",
      "       [0.79784928, 0.17789963, 0.07549452]]), array([[0.7122079 , 0.05243979, 0.84824262],\n",
      "       [0.98197363, 0.89756543, 0.70475477],\n",
      "       [0.17789963, 0.07549452, 0.39128624]]), array([[0.6740285 , 0.51439832, 0.23290849],\n",
      "       [0.7572162 , 0.72984777, 0.99498118],\n",
      "       [0.65769228, 0.9792316 , 0.81118505]]), array([[0.51439832, 0.23290849, 0.87785394],\n",
      "       [0.72984777, 0.99498118, 0.99380252],\n",
      "       [0.9792316 , 0.81118505, 0.15387417]]), array([[0.23290849, 0.87785394, 0.90307838],\n",
      "       [0.99498118, 0.99380252, 0.91013533],\n",
      "       [0.81118505, 0.15387417, 0.77670424]]), array([[0.87785394, 0.90307838, 0.62576938],\n",
      "       [0.99380252, 0.91013533, 0.76887985],\n",
      "       [0.15387417, 0.77670424, 0.50520481]]), array([[0.90307838, 0.62576938, 0.95960822],\n",
      "       [0.91013533, 0.76887985, 0.79784928],\n",
      "       [0.77670424, 0.50520481, 0.89470982]]), array([[0.62576938, 0.95960822, 0.98197363],\n",
      "       [0.76887985, 0.79784928, 0.17789963],\n",
      "       [0.50520481, 0.89470982, 0.36857972]]), array([[0.95960822, 0.98197363, 0.89756543],\n",
      "       [0.79784928, 0.17789963, 0.07549452],\n",
      "       [0.89470982, 0.36857972, 0.1427574 ]]), array([[0.98197363, 0.89756543, 0.70475477],\n",
      "       [0.17789963, 0.07549452, 0.39128624],\n",
      "       [0.36857972, 0.1427574 , 0.95078566]]), array([[0.7572162 , 0.72984777, 0.99498118],\n",
      "       [0.65769228, 0.9792316 , 0.81118505],\n",
      "       [0.03267225, 0.79562425, 0.99232423]]), array([[0.72984777, 0.99498118, 0.99380252],\n",
      "       [0.9792316 , 0.81118505, 0.15387417],\n",
      "       [0.79562425, 0.99232423, 0.24536292]]), array([[0.99498118, 0.99380252, 0.91013533],\n",
      "       [0.81118505, 0.15387417, 0.77670424],\n",
      "       [0.99232423, 0.24536292, 0.23306689]]), array([[0.99380252, 0.91013533, 0.76887985],\n",
      "       [0.15387417, 0.77670424, 0.50520481],\n",
      "       [0.24536292, 0.23306689, 0.46916474]]), array([[0.91013533, 0.76887985, 0.79784928],\n",
      "       [0.77670424, 0.50520481, 0.89470982],\n",
      "       [0.23306689, 0.46916474, 0.57781313]]), array([[0.76887985, 0.79784928, 0.17789963],\n",
      "       [0.50520481, 0.89470982, 0.36857972],\n",
      "       [0.46916474, 0.57781313, 0.2424356 ]]), array([[0.79784928, 0.17789963, 0.07549452],\n",
      "       [0.89470982, 0.36857972, 0.1427574 ],\n",
      "       [0.57781313, 0.2424356 , 0.2123453 ]]), array([[0.17789963, 0.07549452, 0.39128624],\n",
      "       [0.36857972, 0.1427574 , 0.95078566],\n",
      "       [0.2424356 , 0.2123453 , 0.37652234]]), array([[0.65769228, 0.9792316 , 0.81118505],\n",
      "       [0.03267225, 0.79562425, 0.99232423],\n",
      "       [0.24332161, 0.07208127, 0.41671935]]), array([[0.9792316 , 0.81118505, 0.15387417],\n",
      "       [0.79562425, 0.99232423, 0.24536292],\n",
      "       [0.07208127, 0.41671935, 0.62411888]]), array([[0.81118505, 0.15387417, 0.77670424],\n",
      "       [0.99232423, 0.24536292, 0.23306689],\n",
      "       [0.41671935, 0.62411888, 0.24796873]]), array([[0.15387417, 0.77670424, 0.50520481],\n",
      "       [0.24536292, 0.23306689, 0.46916474],\n",
      "       [0.62411888, 0.24796873, 0.97781718]]), array([[0.77670424, 0.50520481, 0.89470982],\n",
      "       [0.23306689, 0.46916474, 0.57781313],\n",
      "       [0.24796873, 0.97781718, 0.88387648]]), array([[0.50520481, 0.89470982, 0.36857972],\n",
      "       [0.46916474, 0.57781313, 0.2424356 ],\n",
      "       [0.97781718, 0.88387648, 0.11181606]]), array([[0.89470982, 0.36857972, 0.1427574 ],\n",
      "       [0.57781313, 0.2424356 , 0.2123453 ],\n",
      "       [0.88387648, 0.11181606, 0.60355905]]), array([[0.36857972, 0.1427574 , 0.95078566],\n",
      "       [0.2424356 , 0.2123453 , 0.37652234],\n",
      "       [0.11181606, 0.60355905, 0.38853357]]), array([[0.03267225, 0.79562425, 0.99232423],\n",
      "       [0.24332161, 0.07208127, 0.41671935],\n",
      "       [0.65889667, 0.31509234, 0.02523628]]), array([[0.79562425, 0.99232423, 0.24536292],\n",
      "       [0.07208127, 0.41671935, 0.62411888],\n",
      "       [0.31509234, 0.02523628, 0.73661353]]), array([[0.99232423, 0.24536292, 0.23306689],\n",
      "       [0.41671935, 0.62411888, 0.24796873],\n",
      "       [0.02523628, 0.73661353, 0.69234338]]), array([[0.24536292, 0.23306689, 0.46916474],\n",
      "       [0.62411888, 0.24796873, 0.97781718],\n",
      "       [0.73661353, 0.69234338, 0.75456044]]), array([[0.23306689, 0.46916474, 0.57781313],\n",
      "       [0.24796873, 0.97781718, 0.88387648],\n",
      "       [0.69234338, 0.75456044, 0.4135941 ]]), array([[0.46916474, 0.57781313, 0.2424356 ],\n",
      "       [0.97781718, 0.88387648, 0.11181606],\n",
      "       [0.75456044, 0.4135941 , 0.44443024]]), array([[0.57781313, 0.2424356 , 0.2123453 ],\n",
      "       [0.88387648, 0.11181606, 0.60355905],\n",
      "       [0.4135941 , 0.44443024, 0.01877227]]), array([[0.2424356 , 0.2123453 , 0.37652234],\n",
      "       [0.11181606, 0.60355905, 0.38853357],\n",
      "       [0.44443024, 0.01877227, 0.87689148]]), array([[0.24332161, 0.07208127, 0.41671935],\n",
      "       [0.65889667, 0.31509234, 0.02523628],\n",
      "       [0.44531636, 0.88378167, 0.25193082]]), array([[0.07208127, 0.41671935, 0.62411888],\n",
      "       [0.31509234, 0.02523628, 0.73661353],\n",
      "       [0.88378167, 0.25193082, 0.48777604]]), array([[0.41671935, 0.62411888, 0.24796873],\n",
      "       [0.02523628, 0.73661353, 0.69234338],\n",
      "       [0.25193082, 0.48777604, 0.26298816]]), array([[0.62411888, 0.24796873, 0.97781718],\n",
      "       [0.73661353, 0.69234338, 0.75456044],\n",
      "       [0.48777604, 0.26298816, 0.27655148]]), array([[0.24796873, 0.97781718, 0.88387648],\n",
      "       [0.69234338, 0.75456044, 0.4135941 ],\n",
      "       [0.26298816, 0.27655148, 0.05637222]]), array([[0.97781718, 0.88387648, 0.11181606],\n",
      "       [0.75456044, 0.4135941 , 0.44443024],\n",
      "       [0.27655148, 0.05637222, 0.08624047]]), array([[0.88387648, 0.11181606, 0.60355905],\n",
      "       [0.4135941 , 0.44443024, 0.01877227],\n",
      "       [0.05637222, 0.08624047, 0.90855468]]), array([[0.11181606, 0.60355905, 0.38853357],\n",
      "       [0.44443024, 0.01877227, 0.87689148],\n",
      "       [0.08624047, 0.90855468, 0.08641969]]), array([[0.65889667, 0.31509234, 0.02523628],\n",
      "       [0.44531636, 0.88378167, 0.25193082],\n",
      "       [0.35432029, 0.62421491, 0.65094617]]), array([[0.31509234, 0.02523628, 0.73661353],\n",
      "       [0.88378167, 0.25193082, 0.48777604],\n",
      "       [0.62421491, 0.65094617, 0.24281573]]), array([[0.02523628, 0.73661353, 0.69234338],\n",
      "       [0.25193082, 0.48777604, 0.26298816],\n",
      "       [0.65094617, 0.24281573, 0.32367061]]), array([[0.73661353, 0.69234338, 0.75456044],\n",
      "       [0.48777604, 0.26298816, 0.27655148],\n",
      "       [0.24281573, 0.32367061, 0.44895133]]), array([[0.69234338, 0.75456044, 0.4135941 ],\n",
      "       [0.26298816, 0.27655148, 0.05637222],\n",
      "       [0.32367061, 0.44895133, 0.8675039 ]]), array([[0.75456044, 0.4135941 , 0.44443024],\n",
      "       [0.27655148, 0.05637222, 0.08624047],\n",
      "       [0.44895133, 0.8675039 , 0.62781553]]), array([[0.4135941 , 0.44443024, 0.01877227],\n",
      "       [0.05637222, 0.08624047, 0.90855468],\n",
      "       [0.8675039 , 0.62781553, 0.89438889]]), array([[0.44443024, 0.01877227, 0.87689148],\n",
      "       [0.08624047, 0.90855468, 0.08641969],\n",
      "       [0.62781553, 0.89438889, 0.99603565]])]\n",
      "64\n"
     ]
    }
   ],
   "source": [
    "A = np.random.rand(10,10)\n",
    "rows, cols = np.shape(A)\n",
    "n = 3\n",
    "blocks = []\n",
    "for i in range(rows):\n",
    "    for j in range(cols):\n",
    "        if i+2 < rows and j+2 < cols:\n",
    "            blocks.append(A[i:i+3, j:j+3])\n",
    "print(blocks)\n",
    "print(len(blocks))\n"
   ]
  },
  {
   "cell_type": "markdown",
   "id": "9efb34b2",
   "metadata": {},
   "source": [
    "#### 87. Consider a 16x16 array, how to get the block-sum (block size is 4x4)? (★★★)"
   ]
  },
  {
   "cell_type": "code",
   "execution_count": 21,
   "id": "ea79f40b",
   "metadata": {},
   "outputs": [
    {
     "name": "stdout",
     "output_type": "stream",
     "text": [
      "[np.float64(3.9565962863474127), np.float64(6.837074341629074), np.float64(4.387136682830936), np.float64(4.689084415415294), np.float64(6.128347064651694), np.float64(5.156690958697472), np.float64(3.7677627685689905), np.float64(5.545602695916967), np.float64(6.109917652134804), np.float64(3.6888270256715026), np.float64(3.1053178607099756), np.float64(5.239044109481616), np.float64(4.691691431384719), np.float64(4.470424987936287), np.float64(4.090620026086221), np.float64(5.166337042201326)]\n"
     ]
    },
    {
     "data": {
      "text/plain": [
       "16"
      ]
     },
     "execution_count": 21,
     "metadata": {},
     "output_type": "execute_result"
    }
   ],
   "source": [
    "A = np.random.rand(16,16)\n",
    "rows, cols = np.shape(A)\n",
    "n = 4\n",
    "block_sums = []\n",
    "for i in range(0,rows,n):\n",
    "    for j in range(0,cols,n):\n",
    "        if i+n-1 < rows and j+n-1 < cols:\n",
    "            block_sums.append(np.sum(A[i:i+n-1, j:j+n-1]))\n",
    "print(block_sums)\n",
    "len(block_sums)"
   ]
  },
  {
   "cell_type": "markdown",
   "id": "8c598af3",
   "metadata": {},
   "source": [
    "#### 89. How to get the n largest values of an array (★★★)"
   ]
  },
  {
   "cell_type": "code",
   "execution_count": 22,
   "id": "cba8d433",
   "metadata": {},
   "outputs": [
    {
     "name": "stdout",
     "output_type": "stream",
     "text": [
      "[5 6 9]\n"
     ]
    }
   ],
   "source": [
    "array = np.array([1,2,2,5,6,9,2,3,3])\n",
    "n = 3\n",
    "print(np.sort(array)[-n:])"
   ]
  },
  {
   "cell_type": "markdown",
   "id": "036a3bb0",
   "metadata": {},
   "source": [
    "#### 90. Given an arbitrary number of vectors, build the cartesian product (every combination of every item) (★★★)"
   ]
  },
  {
   "cell_type": "code",
   "execution_count": 40,
   "id": "d712972d",
   "metadata": {},
   "outputs": [
    {
     "name": "stdout",
     "output_type": "stream",
     "text": [
      "[[1 4 7]\n",
      " [1 4 8]\n",
      " [1 4 9]\n",
      " [2 4 7]\n",
      " [2 4 8]\n",
      " [2 4 9]\n",
      " [3 4 7]\n",
      " [3 4 8]\n",
      " [3 4 9]\n",
      " [1 5 7]\n",
      " [1 5 8]\n",
      " [1 5 9]\n",
      " [2 5 7]\n",
      " [2 5 8]\n",
      " [2 5 9]\n",
      " [3 5 7]\n",
      " [3 5 8]\n",
      " [3 5 9]\n",
      " [1 6 7]\n",
      " [1 6 8]\n",
      " [1 6 9]\n",
      " [2 6 7]\n",
      " [2 6 8]\n",
      " [2 6 9]\n",
      " [3 6 7]\n",
      " [3 6 8]\n",
      " [3 6 9]]\n"
     ]
    }
   ],
   "source": [
    "vectors = np.array([[1,2,3], [4,5,6], [7,8,9]])\n",
    "num_vecs, vec_length = np.shape(vectors)\n",
    "grids = np.meshgrid(*vectors)\n",
    "cartesian_product = np.column_stack([grid.flatten() for grid in grids])\n",
    "print(cartesian_product)"
   ]
  },
  {
   "cell_type": "markdown",
   "id": "edef1198",
   "metadata": {},
   "source": [
    "#### 96. Given a two dimensional array, how to extract unique rows? (★★★)"
   ]
  },
  {
   "cell_type": "code",
   "execution_count": null,
   "id": "fa14799b",
   "metadata": {},
   "outputs": [
    {
     "name": "stdout",
     "output_type": "stream",
     "text": [
      "[array([1, 2, 3]), array([4, 5, 6]), array([7, 8, 9])]\n"
     ]
    }
   ],
   "source": [
    "array = np.array([[1,2,3],\n",
    "                  [4,5,6],\n",
    "                  [7,8,9],\n",
    "                  [1,2,3],\n",
    "                  [4,5,6]])\n",
    "unique_rows = []\n",
    "for row in array:\n",
    "    in_unique = False\n",
    "    for unique_row in unique_rows:\n",
    "        # print(unique_row)\n",
    "        # print(row)\n",
    "        equality = (unique_row == row)\n",
    "        if equality.all():\n",
    "            in_unique = True\n",
    "    if not in_unique:\n",
    "        unique_rows.append(row)\n",
    "\n",
    "\n",
    "print(unique_rows)"
   ]
  },
  {
   "cell_type": "markdown",
   "id": "575598a1",
   "metadata": {},
   "source": [
    "#### 97. Considering 2 vectors A & B, write the einsum equivalent of inner, outer, sum, and mul function (★★★)"
   ]
  },
  {
   "cell_type": "code",
   "execution_count": 26,
   "id": "9da72f6e",
   "metadata": {},
   "outputs": [
    {
     "data": {
      "text/plain": [
       "array([0.23270416, 0.19746529, 0.46994289, 0.22430726, 0.02691932])"
      ]
     },
     "execution_count": 26,
     "metadata": {},
     "output_type": "execute_result"
    }
   ],
   "source": [
    "A = np.random.uniform(0,1,5)\n",
    "B = np.random.uniform(0,1,5)\n",
    "\n",
    "np.einsum('i,i', A, B)    # inner\n",
    "np.einsum('i,j->ij', A, B)    # outer\n",
    "np.einsum('i->', A)       # sum\n",
    "np.einsum('i,i->i', A, B) # mul"
   ]
  },
  {
   "cell_type": "markdown",
   "id": "b7068c76",
   "metadata": {},
   "source": [
    "#### 100. Compute bootstrapped 95% confidence intervals for the mean of a 1D array X (i.e., resample the elements of an array with replacement N times, compute the mean of each sample, and then compute percentiles over the means). (★★★)"
   ]
  },
  {
   "cell_type": "code",
   "execution_count": 24,
   "id": "3c234201",
   "metadata": {},
   "outputs": [
    {
     "name": "stdout",
     "output_type": "stream",
     "text": [
      "[-0.12091158  0.22676235]\n"
     ]
    }
   ],
   "source": [
    "X = np.random.randn(100) \n",
    "N = 1000 \n",
    "idx = np.random.randint(0, X.size, (N, X.size))\n",
    "means = X[idx].mean(axis=1)\n",
    "confint = np.percentile(means, [2.5, 97.5])\n",
    "print(confint)"
   ]
  }
 ],
 "metadata": {
  "kernelspec": {
   "display_name": "envavi",
   "language": "python",
   "name": "python3"
  },
  "language_info": {
   "codemirror_mode": {
    "name": "ipython",
    "version": 3
   },
   "file_extension": ".py",
   "mimetype": "text/x-python",
   "name": "python",
   "nbconvert_exporter": "python",
   "pygments_lexer": "ipython3",
   "version": "3.13.2"
  }
 },
 "nbformat": 4,
 "nbformat_minor": 5
}
