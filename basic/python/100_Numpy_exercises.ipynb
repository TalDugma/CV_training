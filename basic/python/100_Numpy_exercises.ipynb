{
 "cells": [
  {
   "cell_type": "markdown",
   "id": "5a28b949",
   "metadata": {},
   "source": [
    "# 100 numpy exercises\n",
    "\n",
    "This is a collection of exercises that have been collected in the numpy mailing list, on stack overflow\n",
    "and in the numpy documentation. The goal of this collection is to offer a quick reference for both old\n",
    "and new users but also to provide a set of exercises for those who teach.\n",
    "\n",
    "\n",
    "If you find an error or think you've a better way to solve some of them, feel\n",
    "free to open an issue at <https://github.com/rougier/numpy-100>."
   ]
  },
  {
   "cell_type": "markdown",
   "id": "3f7a87ec",
   "metadata": {},
   "source": [
    "File automatically generated. See the documentation to update questions/answers/hints programmatically."
   ]
  },
  {
   "cell_type": "markdown",
   "id": "854ecf1b",
   "metadata": {},
   "source": [
    "Run the `initialise.py` module, then for each question you can query the\n",
    "answer or an hint with `hint(n)` or `answer(n)` for `n` question number."
   ]
  },
  {
   "cell_type": "markdown",
   "id": "37f5e461",
   "metadata": {},
   "source": [
    "Answers for questions:\n",
    "15, 19, 25, 35, 37, 42, 47, 50, 53, 58, 59, 64, 68, 69, 71, 75, 76, 84, 87, 89, 90, 96, 97, 100"
   ]
  },
  {
   "cell_type": "code",
   "execution_count": 1,
   "id": "c53ea877",
   "metadata": {},
   "outputs": [
    {
     "ename": "Exception",
     "evalue": "File `'initialise.py'` not found.",
     "output_type": "error",
     "traceback": [
      "\u001b[31m---------------------------------------------------------------------------\u001b[39m",
      "\u001b[31mOSError\u001b[39m                                   Traceback (most recent call last)",
      "\u001b[36mFile \u001b[39m\u001b[32mc:\\Users\\user\\miniconda3\\envs\\envavi\\Lib\\site-packages\\IPython\\core\\magics\\execution.py:727\u001b[39m, in \u001b[36mExecutionMagics.run\u001b[39m\u001b[34m(self, parameter_s, runner, file_finder)\u001b[39m\n\u001b[32m    726\u001b[39m     fpath = arg_lst[\u001b[32m0\u001b[39m]\n\u001b[32m--> \u001b[39m\u001b[32m727\u001b[39m     filename = \u001b[43mfile_finder\u001b[49m\u001b[43m(\u001b[49m\u001b[43mfpath\u001b[49m\u001b[43m)\u001b[49m\n\u001b[32m    728\u001b[39m \u001b[38;5;28;01mexcept\u001b[39;00m \u001b[38;5;167;01mIndexError\u001b[39;00m \u001b[38;5;28;01mas\u001b[39;00m e:\n",
      "\u001b[36mFile \u001b[39m\u001b[32mc:\\Users\\user\\miniconda3\\envs\\envavi\\Lib\\site-packages\\IPython\\utils\\path.py:90\u001b[39m, in \u001b[36mget_py_filename\u001b[39m\u001b[34m(name)\u001b[39m\n\u001b[32m     89\u001b[39m         \u001b[38;5;28;01mreturn\u001b[39;00m py_name\n\u001b[32m---> \u001b[39m\u001b[32m90\u001b[39m \u001b[38;5;28;01mraise\u001b[39;00m \u001b[38;5;167;01mIOError\u001b[39;00m(\u001b[33m\"\u001b[39m\u001b[33mFile `\u001b[39m\u001b[38;5;132;01m%r\u001b[39;00m\u001b[33m` not found.\u001b[39m\u001b[33m\"\u001b[39m % name)\n",
      "\u001b[31mOSError\u001b[39m: File `'initialise.py'` not found.",
      "\nThe above exception was the direct cause of the following exception:\n",
      "\u001b[31mException\u001b[39m                                 Traceback (most recent call last)",
      "\u001b[36mCell\u001b[39m\u001b[36m \u001b[39m\u001b[32mIn[1]\u001b[39m\u001b[32m, line 1\u001b[39m\n\u001b[32m----> \u001b[39m\u001b[32m1\u001b[39m \u001b[43mget_ipython\u001b[49m\u001b[43m(\u001b[49m\u001b[43m)\u001b[49m\u001b[43m.\u001b[49m\u001b[43mrun_line_magic\u001b[49m\u001b[43m(\u001b[49m\u001b[33;43m'\u001b[39;49m\u001b[33;43mrun\u001b[39;49m\u001b[33;43m'\u001b[39;49m\u001b[43m,\u001b[49m\u001b[43m \u001b[49m\u001b[33;43m'\u001b[39;49m\u001b[33;43minitialise.py\u001b[39;49m\u001b[33;43m'\u001b[39;49m\u001b[43m)\u001b[49m\n",
      "\u001b[36mFile \u001b[39m\u001b[32mc:\\Users\\user\\miniconda3\\envs\\envavi\\Lib\\site-packages\\IPython\\core\\interactiveshell.py:2486\u001b[39m, in \u001b[36mInteractiveShell.run_line_magic\u001b[39m\u001b[34m(self, magic_name, line, _stack_depth)\u001b[39m\n\u001b[32m   2484\u001b[39m     kwargs[\u001b[33m'\u001b[39m\u001b[33mlocal_ns\u001b[39m\u001b[33m'\u001b[39m] = \u001b[38;5;28mself\u001b[39m.get_local_scope(stack_depth)\n\u001b[32m   2485\u001b[39m \u001b[38;5;28;01mwith\u001b[39;00m \u001b[38;5;28mself\u001b[39m.builtin_trap:\n\u001b[32m-> \u001b[39m\u001b[32m2486\u001b[39m     result = \u001b[43mfn\u001b[49m\u001b[43m(\u001b[49m\u001b[43m*\u001b[49m\u001b[43margs\u001b[49m\u001b[43m,\u001b[49m\u001b[43m \u001b[49m\u001b[43m*\u001b[49m\u001b[43m*\u001b[49m\u001b[43mkwargs\u001b[49m\u001b[43m)\u001b[49m\n\u001b[32m   2488\u001b[39m \u001b[38;5;66;03m# The code below prevents the output from being displayed\u001b[39;00m\n\u001b[32m   2489\u001b[39m \u001b[38;5;66;03m# when using magics with decorator @output_can_be_silenced\u001b[39;00m\n\u001b[32m   2490\u001b[39m \u001b[38;5;66;03m# when the last Python token in the expression is a ';'.\u001b[39;00m\n\u001b[32m   2491\u001b[39m \u001b[38;5;28;01mif\u001b[39;00m \u001b[38;5;28mgetattr\u001b[39m(fn, magic.MAGIC_OUTPUT_CAN_BE_SILENCED, \u001b[38;5;28;01mFalse\u001b[39;00m):\n",
      "\u001b[36mFile \u001b[39m\u001b[32mc:\\Users\\user\\miniconda3\\envs\\envavi\\Lib\\site-packages\\IPython\\core\\magics\\execution.py:738\u001b[39m, in \u001b[36mExecutionMagics.run\u001b[39m\u001b[34m(self, parameter_s, runner, file_finder)\u001b[39m\n\u001b[32m    736\u001b[39m     \u001b[38;5;28;01mif\u001b[39;00m os.name == \u001b[33m'\u001b[39m\u001b[33mnt\u001b[39m\u001b[33m'\u001b[39m \u001b[38;5;129;01mand\u001b[39;00m re.match(\u001b[33mr\u001b[39m\u001b[33m\"\u001b[39m\u001b[33m^\u001b[39m\u001b[33m'\u001b[39m\u001b[33m.*\u001b[39m\u001b[33m'\u001b[39m\u001b[33m$\u001b[39m\u001b[33m\"\u001b[39m,fpath):\n\u001b[32m    737\u001b[39m         warn(\u001b[33m'\u001b[39m\u001b[33mFor Windows, use double quotes to wrap a filename: \u001b[39m\u001b[38;5;132;01m%r\u001b[39;00m\u001b[33mun \u001b[39m\u001b[33m\"\u001b[39m\u001b[33mmypath\u001b[39m\u001b[38;5;130;01m\\\\\u001b[39;00m\u001b[33mmyfile.py\u001b[39m\u001b[33m\"\u001b[39m\u001b[33m'\u001b[39m)\n\u001b[32m--> \u001b[39m\u001b[32m738\u001b[39m     \u001b[38;5;28;01mraise\u001b[39;00m \u001b[38;5;167;01mException\u001b[39;00m(msg) \u001b[38;5;28;01mfrom\u001b[39;00m\u001b[38;5;250m \u001b[39m\u001b[34;01me\u001b[39;00m\n\u001b[32m    739\u001b[39m \u001b[38;5;28;01mexcept\u001b[39;00m \u001b[38;5;167;01mTypeError\u001b[39;00m:\n\u001b[32m    740\u001b[39m     \u001b[38;5;28;01mif\u001b[39;00m fpath \u001b[38;5;129;01min\u001b[39;00m sys.meta_path:\n",
      "\u001b[31mException\u001b[39m: File `'initialise.py'` not found."
     ]
    }
   ],
   "source": [
    "%run initialise.py"
   ]
  },
  {
   "cell_type": "markdown",
   "id": "c00df986",
   "metadata": {},
   "source": [
    "#### 1. Import the numpy package under the name `np` (★☆☆)"
   ]
  },
  {
   "cell_type": "code",
   "execution_count": 2,
   "id": "35bde95c",
   "metadata": {},
   "outputs": [],
   "source": [
    "import numpy as np"
   ]
  },
  {
   "cell_type": "markdown",
   "id": "b555a89f",
   "metadata": {},
   "source": [
    "#### 2. Print the numpy version and the configuration (★☆☆)"
   ]
  },
  {
   "cell_type": "code",
   "execution_count": null,
   "id": "2c9d363d",
   "metadata": {},
   "outputs": [],
   "source": []
  },
  {
   "cell_type": "markdown",
   "id": "e2713407",
   "metadata": {},
   "source": [
    "#### 3. Create a null vector of size 10 (★☆☆)"
   ]
  },
  {
   "cell_type": "code",
   "execution_count": null,
   "id": "6df2f6db",
   "metadata": {},
   "outputs": [],
   "source": []
  },
  {
   "cell_type": "markdown",
   "id": "5a09554f",
   "metadata": {},
   "source": [
    "#### 4. How to find the memory size of any array (★☆☆)"
   ]
  },
  {
   "cell_type": "code",
   "execution_count": null,
   "id": "c55a2a00",
   "metadata": {},
   "outputs": [],
   "source": []
  },
  {
   "cell_type": "markdown",
   "id": "4720d438",
   "metadata": {},
   "source": [
    "#### 5. How to get the documentation of the numpy add function from the command line? (★☆☆)"
   ]
  },
  {
   "cell_type": "code",
   "execution_count": null,
   "id": "d9e2277e",
   "metadata": {},
   "outputs": [],
   "source": []
  },
  {
   "cell_type": "markdown",
   "id": "b812d322",
   "metadata": {},
   "source": [
    "#### 6. Create a null vector of size 10 but the fifth value which is 1 (★☆☆)"
   ]
  },
  {
   "cell_type": "code",
   "execution_count": null,
   "id": "9f95cedf",
   "metadata": {},
   "outputs": [],
   "source": []
  },
  {
   "cell_type": "markdown",
   "id": "a348f2a8",
   "metadata": {},
   "source": [
    "#### 7. Create a vector with values ranging from 10 to 49 (★☆☆)"
   ]
  },
  {
   "cell_type": "code",
   "execution_count": null,
   "id": "5a68fd5b",
   "metadata": {},
   "outputs": [],
   "source": []
  },
  {
   "cell_type": "markdown",
   "id": "2f4ca4c0",
   "metadata": {},
   "source": [
    "#### 8. Reverse a vector (first element becomes last) (★☆☆)"
   ]
  },
  {
   "cell_type": "code",
   "execution_count": null,
   "id": "1892e775",
   "metadata": {},
   "outputs": [],
   "source": []
  },
  {
   "cell_type": "markdown",
   "id": "31381832",
   "metadata": {},
   "source": [
    "#### 9. Create a 3x3 matrix with values ranging from 0 to 8 (★☆☆)"
   ]
  },
  {
   "cell_type": "code",
   "execution_count": null,
   "id": "0154f251",
   "metadata": {},
   "outputs": [],
   "source": []
  },
  {
   "cell_type": "markdown",
   "id": "8c353e84",
   "metadata": {},
   "source": [
    "#### 10. Find indices of non-zero elements from [1,2,0,0,4,0] (★☆☆)"
   ]
  },
  {
   "cell_type": "code",
   "execution_count": null,
   "id": "da3495c3",
   "metadata": {},
   "outputs": [],
   "source": []
  },
  {
   "cell_type": "markdown",
   "id": "a26ac749",
   "metadata": {},
   "source": [
    "#### 11. Create a 3x3 identity matrix (★☆☆)"
   ]
  },
  {
   "cell_type": "code",
   "execution_count": null,
   "id": "3e33feda",
   "metadata": {},
   "outputs": [],
   "source": []
  },
  {
   "cell_type": "markdown",
   "id": "3a293379",
   "metadata": {},
   "source": [
    "#### 12. Create a 3x3x3 array with random values (★☆☆)"
   ]
  },
  {
   "cell_type": "code",
   "execution_count": null,
   "id": "2da08152",
   "metadata": {},
   "outputs": [],
   "source": []
  },
  {
   "cell_type": "markdown",
   "id": "e3faa924",
   "metadata": {},
   "source": [
    "#### 13. Create a 10x10 array with random values and find the minimum and maximum values (★☆☆)"
   ]
  },
  {
   "cell_type": "code",
   "execution_count": null,
   "id": "e9fb3793",
   "metadata": {},
   "outputs": [],
   "source": []
  },
  {
   "cell_type": "markdown",
   "id": "317cb8d1",
   "metadata": {},
   "source": [
    "#### 14. Create a random vector of size 30 and find the mean value (★☆☆)"
   ]
  },
  {
   "cell_type": "code",
   "execution_count": null,
   "id": "4ea995d6",
   "metadata": {},
   "outputs": [],
   "source": []
  },
  {
   "cell_type": "markdown",
   "id": "b8dee0f2",
   "metadata": {},
   "source": [
    "#### 15. Create a 2d array with 1 on the border and 0 inside (★☆☆)"
   ]
  },
  {
   "cell_type": "code",
   "execution_count": 10,
   "id": "7054464b",
   "metadata": {},
   "outputs": [
    {
     "name": "stdout",
     "output_type": "stream",
     "text": [
      "[[1. 1. 1. 1. 1.]\n",
      " [1. 0. 0. 0. 1.]\n",
      " [1. 0. 0. 0. 1.]\n",
      " [1. 0. 0. 0. 1.]\n",
      " [1. 1. 1. 1. 1.]]\n"
     ]
    }
   ],
   "source": [
    "def build_2d_array_1border_0inside(n=3):\n",
    "    if n <1:\n",
    "        print(\"invalid shape\")\n",
    "        return None\n",
    "    elif n==1:\n",
    "        return np.array([1])        \n",
    "    # Start with zeros 2d array\n",
    "    array = np.zeros((n,n))\n",
    "    # fill borders with ones\n",
    "    num_rows, num_cols = np.shape(array)\n",
    "    for row in range(num_rows):\n",
    "        array[row,0] = 1\n",
    "        array[row,-1] = 1\n",
    "    # fill first and last rows with ones\n",
    "    array[0,:] = 1\n",
    "    array[-1,:] = 1\n",
    "    return array\n",
    "\n",
    "print(build_2d_array_1border_0inside(n=5))\n",
    "\n",
    "\n"
   ]
  },
  {
   "cell_type": "markdown",
   "id": "1476f45f",
   "metadata": {},
   "source": [
    "#### 16. How to add a border (filled with 0's) around an existing array? (★☆☆)"
   ]
  },
  {
   "cell_type": "code",
   "execution_count": null,
   "id": "4f0212af",
   "metadata": {},
   "outputs": [],
   "source": []
  },
  {
   "cell_type": "markdown",
   "id": "52844dc7",
   "metadata": {},
   "source": [
    "#### 17. What is the result of the following expression? (★☆☆)\n",
    "```python\n",
    "0 * np.nan\n",
    "np.nan == np.nan\n",
    "np.inf > np.nan\n",
    "np.nan - np.nan\n",
    "np.nan in set([np.nan])\n",
    "0.3 == 3 * 0.1\n",
    "```"
   ]
  },
  {
   "cell_type": "code",
   "execution_count": null,
   "id": "cfdb7352",
   "metadata": {},
   "outputs": [],
   "source": []
  },
  {
   "cell_type": "markdown",
   "id": "9801c961",
   "metadata": {},
   "source": [
    "#### 18. Create a 5x5 matrix with values 1,2,3,4 just below the diagonal (★☆☆)"
   ]
  },
  {
   "cell_type": "code",
   "execution_count": null,
   "id": "4e97651a",
   "metadata": {},
   "outputs": [],
   "source": []
  },
  {
   "cell_type": "markdown",
   "id": "3dc05e9f",
   "metadata": {},
   "source": [
    "#### 19. Create a 8x8 matrix and fill it with a checkerboard pattern (★☆☆)"
   ]
  },
  {
   "cell_type": "code",
   "execution_count": 15,
   "id": "0b100b85",
   "metadata": {},
   "outputs": [
    {
     "name": "stdout",
     "output_type": "stream",
     "text": [
      "[[0. 1. 0. 1. 0. 1. 0. 1.]\n",
      " [1. 0. 1. 0. 1. 0. 1. 0.]\n",
      " [0. 1. 0. 1. 0. 1. 0. 1.]\n",
      " [1. 0. 1. 0. 1. 0. 1. 0.]\n",
      " [0. 1. 0. 1. 0. 1. 0. 1.]\n",
      " [1. 0. 1. 0. 1. 0. 1. 0.]\n",
      " [0. 1. 0. 1. 0. 1. 0. 1.]\n",
      " [1. 0. 1. 0. 1. 0. 1. 0.]]\n"
     ]
    }
   ],
   "source": [
    "def checkerboard(n=8):\n",
    "    array = np.zeros((n,n))\n",
    "    rows, cols = np.shape(array)\n",
    "    for row in range(rows):\n",
    "        if row % 2 == 0:\n",
    "            # start with white\n",
    "            ones_indices = [k for k in range(8) if k%2==1] \n",
    "            array[row,ones_indices] = 1\n",
    "        else:\n",
    "            #start with the black\n",
    "            ones_indices = [k for k in range(8) if k%2==0] \n",
    "            array[row,ones_indices] = 1\n",
    "    return array\n",
    "\n",
    "print(checkerboard())\n",
    "\n"
   ]
  },
  {
   "cell_type": "markdown",
   "id": "d8e941b6",
   "metadata": {},
   "source": [
    "#### 20. Consider a (6,7,8) shape array, what is the index (x,y,z) of the 100th element? (★☆☆)"
   ]
  },
  {
   "cell_type": "code",
   "execution_count": null,
   "id": "b3bc1fcb",
   "metadata": {},
   "outputs": [],
   "source": []
  },
  {
   "cell_type": "markdown",
   "id": "bf3b8ab3",
   "metadata": {},
   "source": [
    "#### 21. Create a checkerboard 8x8 matrix using the tile function (★☆☆)"
   ]
  },
  {
   "cell_type": "code",
   "execution_count": null,
   "id": "eb15c681",
   "metadata": {},
   "outputs": [],
   "source": []
  },
  {
   "cell_type": "markdown",
   "id": "71af9d19",
   "metadata": {},
   "source": [
    "#### 22. Normalize a 5x5 random matrix (★☆☆)"
   ]
  },
  {
   "cell_type": "code",
   "execution_count": null,
   "id": "df20b788",
   "metadata": {},
   "outputs": [],
   "source": []
  },
  {
   "cell_type": "markdown",
   "id": "01cd9893",
   "metadata": {},
   "source": [
    "#### 23. Create a custom dtype that describes a color as four unsigned bytes (RGBA) (★☆☆)"
   ]
  },
  {
   "cell_type": "code",
   "execution_count": null,
   "id": "4acddc2f",
   "metadata": {},
   "outputs": [],
   "source": []
  },
  {
   "cell_type": "markdown",
   "id": "0ef5f38b",
   "metadata": {},
   "source": [
    "#### 24. Multiply a 5x3 matrix by a 3x2 matrix (real matrix product) (★☆☆)"
   ]
  },
  {
   "cell_type": "code",
   "execution_count": null,
   "id": "3d36d4a0",
   "metadata": {},
   "outputs": [],
   "source": []
  },
  {
   "cell_type": "markdown",
   "id": "a46db425",
   "metadata": {},
   "source": [
    "#### 25. Given a 1D array, negate all elements which are between 3 and 8, in place. (★☆☆)"
   ]
  },
  {
   "cell_type": "code",
   "execution_count": 28,
   "id": "86e3d6a8",
   "metadata": {},
   "outputs": [
    {
     "data": {
      "text/plain": [
       "array([ 1.,  2.,  3., -4., -5., -6., -7.,  8.,  9., 10.])"
      ]
     },
     "execution_count": 28,
     "metadata": {},
     "output_type": "execute_result"
    }
   ],
   "source": [
    "array = np.linspace(1,10, num=10)\n",
    "def negate_between3_and8_inplace(array):\n",
    "    array[(array<8) & (array>3)] = -array[(array<8) & (array>3)] \n",
    "    return array\n",
    "negate_between3_and8_inplace(array)"
   ]
  },
  {
   "cell_type": "markdown",
   "id": "89fa6007",
   "metadata": {},
   "source": [
    "#### 26. What is the output of the following script? (★☆☆)\n",
    "```python\n",
    "# Author: Jake VanderPlas\n",
    "\n",
    "print(sum(range(5),-1))\n",
    "from numpy import *\n",
    "print(sum(range(5),-1))\n",
    "```"
   ]
  },
  {
   "cell_type": "code",
   "execution_count": null,
   "id": "59f2c6dc",
   "metadata": {},
   "outputs": [],
   "source": []
  },
  {
   "cell_type": "markdown",
   "id": "38de4589",
   "metadata": {},
   "source": [
    "#### 27. Consider an integer vector Z, which of these expressions are legal? (★☆☆)\n",
    "```python\n",
    "Z**Z\n",
    "2 << Z >> 2\n",
    "Z <- Z\n",
    "1j*Z\n",
    "Z/1/1\n",
    "Z<Z>Z\n",
    "```"
   ]
  },
  {
   "cell_type": "code",
   "execution_count": null,
   "id": "a9dc9520",
   "metadata": {},
   "outputs": [],
   "source": []
  },
  {
   "cell_type": "markdown",
   "id": "77c8b8c7",
   "metadata": {},
   "source": [
    "#### 28. What are the result of the following expressions? (★☆☆)\n",
    "```python\n",
    "np.array(0) / np.array(0)\n",
    "np.array(0) // np.array(0)\n",
    "np.array([np.nan]).astype(int).astype(float)\n",
    "```"
   ]
  },
  {
   "cell_type": "code",
   "execution_count": null,
   "id": "3b66fe44",
   "metadata": {},
   "outputs": [],
   "source": []
  },
  {
   "cell_type": "markdown",
   "id": "1f3f0892",
   "metadata": {},
   "source": [
    "#### 29. How to round away from zero a float array ? (★☆☆)"
   ]
  },
  {
   "cell_type": "code",
   "execution_count": null,
   "id": "8fce1bd7",
   "metadata": {},
   "outputs": [],
   "source": []
  },
  {
   "cell_type": "markdown",
   "id": "53f47438",
   "metadata": {},
   "source": [
    "#### 30. How to find common values between two arrays? (★☆☆)"
   ]
  },
  {
   "cell_type": "code",
   "execution_count": null,
   "id": "981db6ec",
   "metadata": {},
   "outputs": [],
   "source": []
  },
  {
   "cell_type": "markdown",
   "id": "51cf9109",
   "metadata": {},
   "source": [
    "#### 31. How to ignore all numpy warnings (not recommended)? (★☆☆)"
   ]
  },
  {
   "cell_type": "code",
   "execution_count": null,
   "id": "09ba7521",
   "metadata": {},
   "outputs": [],
   "source": []
  },
  {
   "cell_type": "markdown",
   "id": "948a691b",
   "metadata": {},
   "source": [
    "#### 32. Is the following expressions true? (★☆☆)\n",
    "```python\n",
    "np.sqrt(-1) == np.emath.sqrt(-1)\n",
    "```"
   ]
  },
  {
   "cell_type": "code",
   "execution_count": null,
   "id": "6d8f745b",
   "metadata": {},
   "outputs": [],
   "source": []
  },
  {
   "cell_type": "markdown",
   "id": "d1a8992e",
   "metadata": {},
   "source": [
    "#### 33. How to get the dates of yesterday, today and tomorrow? (★☆☆)"
   ]
  },
  {
   "cell_type": "code",
   "execution_count": null,
   "id": "31a1ade2",
   "metadata": {},
   "outputs": [],
   "source": []
  },
  {
   "cell_type": "markdown",
   "id": "01378794",
   "metadata": {},
   "source": [
    "#### 34. How to get all the dates corresponding to the month of July 2016? (★★☆)"
   ]
  },
  {
   "cell_type": "code",
   "execution_count": null,
   "id": "928c55c6",
   "metadata": {},
   "outputs": [],
   "source": []
  },
  {
   "cell_type": "markdown",
   "id": "e3f8fe94",
   "metadata": {},
   "source": [
    "#### 35. How to compute ((A+B)*(-A/2)) in place (without copy)? (★★☆)"
   ]
  },
  {
   "cell_type": "code",
   "execution_count": 34,
   "id": "14e478d5",
   "metadata": {},
   "outputs": [],
   "source": [
    "def compute_35(A,B):\n",
    "    return (A+B)*(- A/2)\n",
    "\n"
   ]
  },
  {
   "cell_type": "markdown",
   "id": "5c4d58c9",
   "metadata": {},
   "source": [
    "#### 36. Extract the integer part of a random array of positive numbers using 4 different methods (★★☆)"
   ]
  },
  {
   "cell_type": "code",
   "execution_count": null,
   "id": "586beded",
   "metadata": {},
   "outputs": [],
   "source": []
  },
  {
   "cell_type": "markdown",
   "id": "62628653",
   "metadata": {},
   "source": [
    "#### 37. Create a 5x5 matrix with row values ranging from 0 to 4 (★★☆)"
   ]
  },
  {
   "cell_type": "code",
   "execution_count": 37,
   "id": "e57763b3",
   "metadata": {},
   "outputs": [
    {
     "name": "stdout",
     "output_type": "stream",
     "text": [
      "[[0. 0. 0. 0. 0.]\n",
      " [1. 1. 1. 1. 1.]\n",
      " [2. 2. 2. 2. 2.]\n",
      " [3. 3. 3. 3. 3.]\n",
      " [4. 4. 4. 4. 4.]]\n"
     ]
    }
   ],
   "source": [
    "array = np.zeros((5,5))\n",
    "for row in range(np.shape(array)[0]):\n",
    "    array[row,:] +=row\n",
    "print(array)"
   ]
  },
  {
   "cell_type": "markdown",
   "id": "d3d46d64",
   "metadata": {},
   "source": [
    "#### 38. Consider a generator function that generates 10 integers and use it to build an array (★☆☆)"
   ]
  },
  {
   "cell_type": "code",
   "execution_count": null,
   "id": "24590d8c",
   "metadata": {},
   "outputs": [],
   "source": []
  },
  {
   "cell_type": "markdown",
   "id": "5e1e51e4",
   "metadata": {},
   "source": [
    "#### 39. Create a vector of size 10 with values ranging from 0 to 1, both excluded (★★☆)"
   ]
  },
  {
   "cell_type": "code",
   "execution_count": null,
   "id": "def73884",
   "metadata": {},
   "outputs": [],
   "source": []
  },
  {
   "cell_type": "markdown",
   "id": "9e19964c",
   "metadata": {},
   "source": [
    "#### 40. Create a random vector of size 10 and sort it (★★☆)"
   ]
  },
  {
   "cell_type": "code",
   "execution_count": null,
   "id": "ec302eb1",
   "metadata": {},
   "outputs": [],
   "source": []
  },
  {
   "cell_type": "markdown",
   "id": "13a034e2",
   "metadata": {},
   "source": [
    "#### 41. How to sum a small array faster than np.sum? (★★☆)"
   ]
  },
  {
   "cell_type": "code",
   "execution_count": null,
   "id": "b09a3551",
   "metadata": {},
   "outputs": [],
   "source": []
  },
  {
   "cell_type": "markdown",
   "id": "32d10473",
   "metadata": {},
   "source": [
    "#### 42. Consider two random arrays A and B, check if they are equal (★★☆)"
   ]
  },
  {
   "cell_type": "code",
   "execution_count": 39,
   "id": "5ebb1103",
   "metadata": {},
   "outputs": [
    {
     "name": "stdout",
     "output_type": "stream",
     "text": [
      "False\n",
      "True\n",
      "False\n"
     ]
    }
   ],
   "source": [
    "def check_equality(A,B):\n",
    "    if np.shape(A) != np.shape(B):\n",
    "        return False\n",
    "    equal_indices = (A == B)\n",
    "    if equal_indices.all():\n",
    "        return True\n",
    "    return False\n",
    "A = np.ones((3,3))\n",
    "B = np.zeros((3,3))\n",
    "C = np.ones((3,3))\n",
    "D = np.zeros((4,4))\n",
    "\n",
    "print(check_equality(A,B))\n",
    "print(check_equality(A,C))\n",
    "print(check_equality(B,D))\n",
    "\n"
   ]
  },
  {
   "cell_type": "markdown",
   "id": "a50474b0",
   "metadata": {},
   "source": [
    "#### 43. Make an array immutable (read-only) (★★☆)"
   ]
  },
  {
   "cell_type": "code",
   "execution_count": null,
   "id": "db6fe176",
   "metadata": {},
   "outputs": [],
   "source": []
  },
  {
   "cell_type": "markdown",
   "id": "b7a6093e",
   "metadata": {},
   "source": [
    "#### 44. Consider a random 10x2 matrix representing cartesian coordinates, convert them to polar coordinates (★★☆)"
   ]
  },
  {
   "cell_type": "code",
   "execution_count": null,
   "id": "4479c48d",
   "metadata": {},
   "outputs": [],
   "source": []
  },
  {
   "cell_type": "markdown",
   "id": "934f889c",
   "metadata": {},
   "source": [
    "#### 45. Create random vector of size 10 and replace the maximum value by 0 (★★☆)"
   ]
  },
  {
   "cell_type": "code",
   "execution_count": null,
   "id": "4b576814",
   "metadata": {},
   "outputs": [],
   "source": []
  },
  {
   "cell_type": "markdown",
   "id": "d4f6e2e1",
   "metadata": {},
   "source": [
    "#### 46. Create a structured array with `x` and `y` coordinates covering the [0,1]x[0,1] area (★★☆)"
   ]
  },
  {
   "cell_type": "code",
   "execution_count": null,
   "id": "f90f969b",
   "metadata": {},
   "outputs": [],
   "source": []
  },
  {
   "cell_type": "markdown",
   "id": "bc9c88d3",
   "metadata": {},
   "source": [
    "#### 47. Given two arrays, X and Y, construct the Cauchy matrix C (Cij =1/(xi - yj)) (★★☆)"
   ]
  },
  {
   "cell_type": "code",
   "execution_count": 43,
   "id": "e90ad595",
   "metadata": {},
   "outputs": [
    {
     "name": "stdout",
     "output_type": "stream",
     "text": [
      "[[-0.5        -0.33333333 -0.25       -0.2        -0.16666667]\n",
      " [-1.         -0.5        -0.33333333 -0.25       -0.2       ]\n",
      " [        nan -1.         -0.5        -0.33333333 -0.25      ]\n",
      " [ 1.                 nan -1.         -0.5        -0.33333333]\n",
      " [ 0.5         1.                 nan -1.         -0.5       ]]\n"
     ]
    }
   ],
   "source": [
    "def cauchy_matrix(X,Y):\n",
    "    rows_X = len(X)\n",
    "    cols_Y = len(Y)\n",
    "    C = np.zeros((rows_X, cols_Y))\n",
    "    for i in range(rows_X):\n",
    "        for j in range(cols_Y):\n",
    "            denominator = (X[i] - Y[j])\n",
    "            if denominator == 0:\n",
    "                C[i,j] = np.nan\n",
    "            else:\n",
    "                C[i,j]= 1 / (X[i] - Y[j])\n",
    "    return C\n",
    "\n",
    "X = np.linspace(1,5, num=5)\n",
    "Y = np.linspace(3,7,num=5)\n",
    "print(cauchy_matrix(X,Y))"
   ]
  },
  {
   "cell_type": "markdown",
   "id": "a840a52f",
   "metadata": {},
   "source": [
    "#### 48. Print the minimum and maximum representable values for each numpy scalar type (★★☆)"
   ]
  },
  {
   "cell_type": "code",
   "execution_count": null,
   "id": "d2eb3b4a",
   "metadata": {},
   "outputs": [],
   "source": []
  },
  {
   "cell_type": "markdown",
   "id": "0a0819d5",
   "metadata": {},
   "source": [
    "#### 49. How to print all the values of an array? (★★☆)"
   ]
  },
  {
   "cell_type": "code",
   "execution_count": null,
   "id": "d76dbf55",
   "metadata": {},
   "outputs": [],
   "source": []
  },
  {
   "cell_type": "markdown",
   "id": "50c62214",
   "metadata": {},
   "source": [
    "#### 50. How to find the closest value (to a given scalar) in a vector? (★★☆)"
   ]
  },
  {
   "cell_type": "code",
   "execution_count": 47,
   "id": "24b45bb5",
   "metadata": {},
   "outputs": [
    {
     "name": "stdout",
     "output_type": "stream",
     "text": [
      "7.0\n"
     ]
    }
   ],
   "source": [
    "v = np.linspace(1,10, num=10)\n",
    "s = 6.6\n",
    "\n",
    "def closest_val(vector, scalar):\n",
    "    min_error = np.inf\n",
    "    closest_value = np.nan\n",
    "    for value in vector:\n",
    "        error = np.abs(scalar - value)\n",
    "        if error < min_error:\n",
    "            closest_val = value\n",
    "            min_error = error\n",
    "    return closest_val\n",
    "\n",
    "print(closest_val(v,s))\n",
    "\n",
    "\n"
   ]
  },
  {
   "cell_type": "markdown",
   "id": "4c5a5116",
   "metadata": {},
   "source": [
    "#### 51. Create a structured array representing a position (x,y) and a color (r,g,b) (★★☆)"
   ]
  },
  {
   "cell_type": "code",
   "execution_count": null,
   "id": "275806b2",
   "metadata": {},
   "outputs": [],
   "source": []
  },
  {
   "cell_type": "markdown",
   "id": "1d3399ca",
   "metadata": {},
   "source": [
    "#### 52. Consider a random vector with shape (100,2) representing coordinates, find point by point distances (★★☆)"
   ]
  },
  {
   "cell_type": "code",
   "execution_count": null,
   "id": "67eae5bf",
   "metadata": {},
   "outputs": [],
   "source": []
  },
  {
   "cell_type": "markdown",
   "id": "003ff920",
   "metadata": {},
   "source": [
    "#### 53. How to convert a float (32 bits) array into an integer (32 bits) array in place?"
   ]
  },
  {
   "cell_type": "code",
   "execution_count": 55,
   "id": "76245e6d",
   "metadata": {},
   "outputs": [
    {
     "name": "stdout",
     "output_type": "stream",
     "text": [
      "[1 2 3 4 5]\n"
     ]
    }
   ],
   "source": [
    "a = np.linspace(1,5,num=5, dtype = float)\n",
    "a = a.astype(int)\n",
    "print(a)\n",
    "\n"
   ]
  },
  {
   "cell_type": "markdown",
   "id": "0c99eac4",
   "metadata": {},
   "source": [
    "#### 54. How to read the following file? (★★☆)\n",
    "```\n",
    "1, 2, 3, 4, 5\n",
    "6,  ,  , 7, 8\n",
    " ,  , 9,10,11\n",
    "```"
   ]
  },
  {
   "cell_type": "code",
   "execution_count": null,
   "id": "55c6bf8c",
   "metadata": {},
   "outputs": [],
   "source": []
  },
  {
   "cell_type": "markdown",
   "id": "8cd30360",
   "metadata": {},
   "source": [
    "#### 55. What is the equivalent of enumerate for numpy arrays? (★★☆)"
   ]
  },
  {
   "cell_type": "code",
   "execution_count": null,
   "id": "608315ba",
   "metadata": {},
   "outputs": [],
   "source": []
  },
  {
   "cell_type": "markdown",
   "id": "4823a294",
   "metadata": {},
   "source": [
    "#### 56. Generate a generic 2D Gaussian-like array (★★☆)"
   ]
  },
  {
   "cell_type": "code",
   "execution_count": null,
   "id": "9b3b682d",
   "metadata": {},
   "outputs": [],
   "source": []
  },
  {
   "cell_type": "markdown",
   "id": "2dd8891d",
   "metadata": {},
   "source": [
    "#### 57. How to randomly place p elements in a 2D array? (★★☆)"
   ]
  },
  {
   "cell_type": "code",
   "execution_count": null,
   "id": "a55c52dc",
   "metadata": {},
   "outputs": [],
   "source": []
  },
  {
   "cell_type": "markdown",
   "id": "270b6834",
   "metadata": {},
   "source": [
    "#### 58. Subtract the mean of each row of a matrix (★★☆)"
   ]
  },
  {
   "cell_type": "code",
   "execution_count": 61,
   "id": "814080c9",
   "metadata": {},
   "outputs": [
    {
     "name": "stdout",
     "output_type": "stream",
     "text": [
      "[[0.75       1.125      1.125     ]\n",
      " [1.36363636 0.81818182 0.81818182]\n",
      " [1.         1.         1.        ]]\n"
     ]
    }
   ],
   "source": [
    "def substract_row_mean(A):\n",
    "    rows, col = np.shape(A)\n",
    "    for row in range(rows):\n",
    "        A[row,:] = A[row,:] / np.mean(A[row,:])\n",
    "    return A\n",
    "\n",
    "A = np.ones((3,3)) * 3\n",
    "A[0][0] -=1\n",
    "A[1][0] += 2\n",
    "print(substract_row_mean(A))\n"
   ]
  },
  {
   "cell_type": "markdown",
   "id": "52c92916",
   "metadata": {},
   "source": [
    "#### 59. How to sort an array by the nth column? (★★☆)"
   ]
  },
  {
   "cell_type": "code",
   "execution_count": 67,
   "id": "c6ebac6d",
   "metadata": {},
   "outputs": [
    {
     "name": "stdout",
     "output_type": "stream",
     "text": [
      "[[1 1 3]\n",
      " [1 2 3]\n",
      " [2 4 6]\n",
      " [1 5 0]]\n"
     ]
    }
   ],
   "source": [
    "# *Assuming the exercise meant 2D array\n",
    "n = 1\n",
    "A = np.array([[1,2,3], \n",
    "             [1,1,3],\n",
    "             [1,5,0],\n",
    "             [2,4,6]])\n",
    "def sort_by_nth_col(A,n):\n",
    "    nth_col = A[:,n]\n",
    "    indices = np.argsort(nth_col)\n",
    "    new_A = A.copy()\n",
    "    rows, cols = np.shape(A)\n",
    "    for row in range(rows):\n",
    "        new_A[row] = A[indices[row]]\n",
    "    return new_A\n",
    "\n",
    "print(sort_by_nth_col(A,n))\n",
    "\n",
    "\n",
    "\n",
    "\n",
    "\n"
   ]
  },
  {
   "cell_type": "markdown",
   "id": "05cef60b",
   "metadata": {},
   "source": [
    "#### 60. How to tell if a given 2D array has null columns? (★★☆)"
   ]
  },
  {
   "cell_type": "code",
   "execution_count": null,
   "id": "7979b467",
   "metadata": {},
   "outputs": [],
   "source": []
  },
  {
   "cell_type": "markdown",
   "id": "4891fdf5",
   "metadata": {},
   "source": [
    "#### 61. Find the nearest value from a given value in an array (★★☆)"
   ]
  },
  {
   "cell_type": "code",
   "execution_count": null,
   "id": "b38950fd",
   "metadata": {},
   "outputs": [],
   "source": []
  },
  {
   "cell_type": "markdown",
   "id": "b34bfbc7",
   "metadata": {},
   "source": [
    "#### 62. Considering two arrays with shape (1,3) and (3,1), how to compute their sum using an iterator? (★★☆)"
   ]
  },
  {
   "cell_type": "code",
   "execution_count": null,
   "id": "aa7eb006",
   "metadata": {},
   "outputs": [],
   "source": []
  },
  {
   "cell_type": "markdown",
   "id": "77a27b83",
   "metadata": {},
   "source": [
    "#### 63. Create an array class that has a name attribute (★★☆)"
   ]
  },
  {
   "cell_type": "code",
   "execution_count": null,
   "id": "a2a83936",
   "metadata": {},
   "outputs": [],
   "source": []
  },
  {
   "cell_type": "markdown",
   "id": "f7f5d229",
   "metadata": {},
   "source": [
    "#### 64. Consider a given vector, how to add 1 to each element indexed by a second vector (be careful with repeated indices)? (★★★)"
   ]
  },
  {
   "cell_type": "code",
   "execution_count": 68,
   "id": "9b8f8f48",
   "metadata": {},
   "outputs": [
    {
     "data": {
      "text/plain": [
       "array([0, 2, 3, 3, 4, 6, 7, 7, 8, 9])"
      ]
     },
     "execution_count": 68,
     "metadata": {},
     "output_type": "execute_result"
    }
   ],
   "source": [
    "vector = np.array([0,1,2,3,4,5,6,7,8,9])\n",
    "indices_vector = np.array([5,6,5,2,1])\n",
    "\n",
    "def add_one_to_indiced_element(vector, indices_vector):\n",
    "    # get unique values from indices vector\n",
    "    unique_indices = np.unique(indices_vector)\n",
    "    vector[indices_vector] = vector[indices_vector] + 1\n",
    "    return vector\n",
    "\n",
    "add_one_to_indiced_element(vector, indices_vector)"
   ]
  },
  {
   "cell_type": "markdown",
   "id": "b067fca8",
   "metadata": {},
   "source": [
    "#### 65. How to accumulate elements of a vector (X) to an array (F) based on an index list (I)? (★★★)"
   ]
  },
  {
   "cell_type": "code",
   "execution_count": null,
   "id": "f983f8ba",
   "metadata": {},
   "outputs": [],
   "source": []
  },
  {
   "cell_type": "markdown",
   "id": "765e2b8e",
   "metadata": {},
   "source": [
    "#### 66. Considering a (w,h,3) image of (dtype=ubyte), compute the number of unique colors (★★☆)"
   ]
  },
  {
   "cell_type": "code",
   "execution_count": null,
   "id": "7572d90d",
   "metadata": {},
   "outputs": [],
   "source": []
  },
  {
   "cell_type": "markdown",
   "id": "02743317",
   "metadata": {},
   "source": [
    "#### 67. Considering a four dimensions array, how to get sum over the last two axis at once? (★★★)"
   ]
  },
  {
   "cell_type": "code",
   "execution_count": null,
   "id": "980b5c45",
   "metadata": {},
   "outputs": [],
   "source": []
  },
  {
   "cell_type": "markdown",
   "id": "fe8b8107",
   "metadata": {},
   "source": [
    "#### 68. Considering a one-dimensional vector D, how to compute means of subsets of D using a vector S of same size describing subset  indices? (★★★)"
   ]
  },
  {
   "cell_type": "code",
   "execution_count": 73,
   "id": "9c17c8c9",
   "metadata": {},
   "outputs": [
    {
     "name": "stdout",
     "output_type": "stream",
     "text": [
      "[np.float64(3.0), np.float64(3.5), np.float64(6.0)]\n"
     ]
    }
   ],
   "source": [
    "D = np.array([1,2,3,4,5,6,7])\n",
    "S =[[0,1,5],[2,3],[4,6]]\n",
    "def excersize_68(D, S):\n",
    "    means = []\n",
    "    for subset in S:\n",
    "        means.append(np.mean(D[subset]))\n",
    "    return means\n",
    "\n",
    "print(excersize_68(D,S))\n",
    "\n"
   ]
  },
  {
   "cell_type": "markdown",
   "id": "7efa1173",
   "metadata": {},
   "source": [
    "#### 69. How to get the diagonal of a dot product? (★★★)"
   ]
  },
  {
   "cell_type": "code",
   "execution_count": 74,
   "id": "59fc6a51",
   "metadata": {},
   "outputs": [
    {
     "data": {
      "text/plain": [
       "array([ 9, 25,  9])"
      ]
     },
     "execution_count": 74,
     "metadata": {},
     "output_type": "execute_result"
    }
   ],
   "source": [
    "A= np.array([[1,2,3],\n",
    "             [4,5,6],\n",
    "             [7,8,9]])\n",
    "\n",
    "B= np.array([[9,8,7],\n",
    "             [6,5,4],\n",
    "             [3,2,1]])\n",
    "\n",
    "np.diagonal(A*B)"
   ]
  },
  {
   "cell_type": "markdown",
   "id": "b72adc30",
   "metadata": {},
   "source": [
    "#### 70. Consider the vector [1, 2, 3, 4, 5], how to build a new vector with 3 consecutive zeros interleaved between each value? (★★★)"
   ]
  },
  {
   "cell_type": "code",
   "execution_count": null,
   "id": "94b582b4",
   "metadata": {},
   "outputs": [],
   "source": []
  },
  {
   "cell_type": "markdown",
   "id": "fafa05b8",
   "metadata": {},
   "source": [
    "#### 71. Consider an array of dimension (5,5,3), how to multiply it by an array with dimensions (5,5)? (★★★)"
   ]
  },
  {
   "cell_type": "code",
   "execution_count": null,
   "id": "0dbb5bd4",
   "metadata": {},
   "outputs": [
    {
     "name": "stdout",
     "output_type": "stream",
     "text": [
      "[[[0.01857749 0.03139767 0.04046222]\n",
      "  [0.2082759  0.30050532 0.41944244]\n",
      "  [0.62116162 0.50687921 0.11447566]\n",
      "  [0.06459238 0.2935578  0.36434258]\n",
      "  [0.29241814 0.23868734 0.12989682]]\n",
      "\n",
      " [[0.03416083 0.03603942 0.02744053]\n",
      "  [0.74670804 0.18706882 0.71794412]\n",
      "  [0.09308193 0.18706344 0.12438605]\n",
      "  [0.54714534 0.18702848 0.26022261]\n",
      "  [0.22285911 0.16564085 0.03488937]]\n",
      "\n",
      " [[0.0159361  0.14185024 0.18333474]\n",
      "  [0.63550855 0.46839391 0.75376839]\n",
      "  [0.25791194 0.13526117 0.47931596]\n",
      "  [0.03895392 0.38811302 0.12244611]\n",
      "  [0.11220995 0.25661428 0.37340788]]\n",
      "\n",
      " [[0.322499   0.48362868 0.28979086]\n",
      "  [0.50959065 0.26739231 0.24019457]\n",
      "  [0.04408269 0.03032901 0.00355591]\n",
      "  [0.02643973 0.01990556 0.01174944]\n",
      "  [0.5043608  0.06069431 0.39519418]]\n",
      "\n",
      " [[0.33649461 0.23121975 0.32015133]\n",
      "  [0.28688537 0.09436731 0.08624272]\n",
      "  [0.13307822 0.17924337 0.09100602]\n",
      "  [0.30867742 0.25889433 0.00576805]\n",
      "  [0.69651378 0.25916611 0.6476423 ]]]\n"
     ]
    }
   ],
   "source": [
    "A = np.random.rand(5,5,3)\n",
    "B = np.random.rand(5,5)\n",
    "# reshape B to fit As shape\n",
    "a_depth = np.shape(A)[-1]\n",
    "B = B[:, :, np.newaxis]\n",
    "# concatanate B for a.depth times\n",
    "B = np.tile(B, 3)\n",
    "print(A*B)"
   ]
  },
  {
   "cell_type": "markdown",
   "id": "35a2bae5",
   "metadata": {},
   "source": [
    "#### 72. How to swap two rows of an array? (★★★)"
   ]
  },
  {
   "cell_type": "code",
   "execution_count": null,
   "id": "d63b30c3",
   "metadata": {},
   "outputs": [],
   "source": []
  },
  {
   "cell_type": "markdown",
   "id": "b760fc57",
   "metadata": {},
   "source": [
    "#### 73. Consider a set of 10 triplets describing 10 triangles (with shared vertices), find the set of unique line segments composing all the  triangles (★★★)"
   ]
  },
  {
   "cell_type": "code",
   "execution_count": null,
   "id": "01738774",
   "metadata": {},
   "outputs": [],
   "source": []
  },
  {
   "cell_type": "markdown",
   "id": "2d28cdaa",
   "metadata": {},
   "source": [
    "#### 74. Given a sorted array C that corresponds to a bincount, how to produce an array A such that np.bincount(A) == C? (★★★)"
   ]
  },
  {
   "cell_type": "code",
   "execution_count": null,
   "id": "8423859b",
   "metadata": {},
   "outputs": [],
   "source": []
  },
  {
   "cell_type": "markdown",
   "id": "5f4cafbd",
   "metadata": {},
   "source": [
    "#### 75. How to compute averages using a sliding window over an array? (★★★)"
   ]
  },
  {
   "cell_type": "code",
   "execution_count": null,
   "id": "62d6d514",
   "metadata": {},
   "outputs": [],
   "source": []
  },
  {
   "cell_type": "markdown",
   "id": "575d8bb4",
   "metadata": {},
   "source": [
    "#### 76. Consider a one-dimensional array Z, build a two-dimensional array whose first row is (Z[0],Z[1],Z[2]) and each subsequent row is  shifted by 1 (last row should be (Z[-3],Z[-2],Z[-1]) (★★★)"
   ]
  },
  {
   "cell_type": "code",
   "execution_count": null,
   "id": "2a41d341",
   "metadata": {},
   "outputs": [
    {
     "name": "stdout",
     "output_type": "stream",
     "text": [
      "[[1. 2. 3.]\n",
      " [2. 3. 4.]\n",
      " [3. 4. 5.]\n",
      " [4. 5. 6.]\n",
      " [5. 6. 7.]\n",
      " [6. 7. 8.]\n",
      " [7. 8. 9.]]\n"
     ]
    }
   ],
   "source": [
    "Z = np.array([1,2,3, 4,5,6,7,8,9])\n",
    "\n",
    "def exce_76(Z):\n",
    "    n = len(Z) - 2\n",
    "    A = np.zeros((n,3))\n",
    "    for i in range(n):\n",
    "        A[i] = Z[i:i+3]\n",
    "    return A\n",
    "print(exce_76(Z))\n"
   ]
  },
  {
   "cell_type": "markdown",
   "id": "80dc0b2a",
   "metadata": {},
   "source": [
    "#### 77. How to negate a boolean, or to change the sign of a float inplace? (★★★)"
   ]
  },
  {
   "cell_type": "code",
   "execution_count": null,
   "id": "6fc68014",
   "metadata": {},
   "outputs": [],
   "source": []
  },
  {
   "cell_type": "markdown",
   "id": "7288634d",
   "metadata": {},
   "source": [
    "#### 78. Consider 2 sets of points P0,P1 describing lines (2d) and a point p, how to compute distance from p to each line i (P0[i],P1[i])? (★★★)"
   ]
  },
  {
   "cell_type": "code",
   "execution_count": null,
   "id": "4602caa6",
   "metadata": {},
   "outputs": [],
   "source": []
  },
  {
   "cell_type": "markdown",
   "id": "e1880e79",
   "metadata": {},
   "source": [
    "#### 79. Consider 2 sets of points P0,P1 describing lines (2d) and a set of points P, how to compute distance from each point j (P[j]) to each line i (P0[i],P1[i])? (★★★)"
   ]
  },
  {
   "cell_type": "code",
   "execution_count": null,
   "id": "a14e151b",
   "metadata": {},
   "outputs": [],
   "source": []
  },
  {
   "cell_type": "markdown",
   "id": "b8a2a287",
   "metadata": {},
   "source": [
    "#### 80. Consider an arbitrary array, write a function that extracts a subpart with a fixed shape and centered on a given element (pad with a `fill` value when necessary) (★★★)"
   ]
  },
  {
   "cell_type": "code",
   "execution_count": null,
   "id": "86af1186",
   "metadata": {},
   "outputs": [],
   "source": []
  },
  {
   "cell_type": "markdown",
   "id": "caa64150",
   "metadata": {},
   "source": [
    "#### 81. Consider an array Z = [1,2,3,4,5,6,7,8,9,10,11,12,13,14], how to generate an array R = [[1,2,3,4], [2,3,4,5], [3,4,5,6], ..., [11,12,13,14]]? (★★★)"
   ]
  },
  {
   "cell_type": "code",
   "execution_count": null,
   "id": "4e7cc696",
   "metadata": {},
   "outputs": [],
   "source": []
  },
  {
   "cell_type": "markdown",
   "id": "9444c83b",
   "metadata": {},
   "source": [
    "#### 82. Compute a matrix rank (★★★)"
   ]
  },
  {
   "cell_type": "code",
   "execution_count": null,
   "id": "9e5c1d64",
   "metadata": {},
   "outputs": [],
   "source": []
  },
  {
   "cell_type": "markdown",
   "id": "6eef9f33",
   "metadata": {},
   "source": [
    "#### 83. How to find the most frequent value in an array?"
   ]
  },
  {
   "cell_type": "code",
   "execution_count": null,
   "id": "9fb60e52",
   "metadata": {},
   "outputs": [],
   "source": []
  },
  {
   "cell_type": "markdown",
   "id": "65f370f9",
   "metadata": {},
   "source": [
    "#### 84. Extract all the contiguous 3x3 blocks from a random 10x10 matrix (★★★)"
   ]
  },
  {
   "cell_type": "code",
   "execution_count": 90,
   "id": "65ade1a6",
   "metadata": {},
   "outputs": [
    {
     "name": "stdout",
     "output_type": "stream",
     "text": [
      "[array([[0.0774281 , 0.91258753, 0.87779565],\n",
      "       [0.80965676, 0.41714151, 0.09993891],\n",
      "       [0.05335887, 0.60939905, 0.89651282]]), array([[0.91258753, 0.87779565, 0.14141533],\n",
      "       [0.41714151, 0.09993891, 0.94778563],\n",
      "       [0.60939905, 0.89651282, 0.72412171]]), array([[0.87779565, 0.14141533, 0.55516018],\n",
      "       [0.09993891, 0.94778563, 0.32447377],\n",
      "       [0.89651282, 0.72412171, 0.5034454 ]]), array([[0.14141533, 0.55516018, 0.50650476],\n",
      "       [0.94778563, 0.32447377, 0.94398696],\n",
      "       [0.72412171, 0.5034454 , 0.24631132]]), array([[0.55516018, 0.50650476, 0.57239469],\n",
      "       [0.32447377, 0.94398696, 0.43233331],\n",
      "       [0.5034454 , 0.24631132, 0.06229978]]), array([[0.50650476, 0.57239469, 0.75755689],\n",
      "       [0.94398696, 0.43233331, 0.42578925],\n",
      "       [0.24631132, 0.06229978, 0.53519764]]), array([[0.57239469, 0.75755689, 0.22517276],\n",
      "       [0.43233331, 0.42578925, 0.99663653],\n",
      "       [0.06229978, 0.53519764, 0.95068136]]), array([[0.75755689, 0.22517276, 0.48389167],\n",
      "       [0.42578925, 0.99663653, 0.73246275],\n",
      "       [0.53519764, 0.95068136, 0.87832221]]), array([[0.80965676, 0.41714151, 0.09993891],\n",
      "       [0.05335887, 0.60939905, 0.89651282],\n",
      "       [0.34769138, 0.69891682, 0.84056625]]), array([[0.41714151, 0.09993891, 0.94778563],\n",
      "       [0.60939905, 0.89651282, 0.72412171],\n",
      "       [0.69891682, 0.84056625, 0.46761186]]), array([[0.09993891, 0.94778563, 0.32447377],\n",
      "       [0.89651282, 0.72412171, 0.5034454 ],\n",
      "       [0.84056625, 0.46761186, 0.44201403]]), array([[0.94778563, 0.32447377, 0.94398696],\n",
      "       [0.72412171, 0.5034454 , 0.24631132],\n",
      "       [0.46761186, 0.44201403, 0.58179472]]), array([[0.32447377, 0.94398696, 0.43233331],\n",
      "       [0.5034454 , 0.24631132, 0.06229978],\n",
      "       [0.44201403, 0.58179472, 0.19211165]]), array([[0.94398696, 0.43233331, 0.42578925],\n",
      "       [0.24631132, 0.06229978, 0.53519764],\n",
      "       [0.58179472, 0.19211165, 0.27979787]]), array([[0.43233331, 0.42578925, 0.99663653],\n",
      "       [0.06229978, 0.53519764, 0.95068136],\n",
      "       [0.19211165, 0.27979787, 0.75751041]]), array([[0.42578925, 0.99663653, 0.73246275],\n",
      "       [0.53519764, 0.95068136, 0.87832221],\n",
      "       [0.27979787, 0.75751041, 0.18073344]]), array([[0.05335887, 0.60939905, 0.89651282],\n",
      "       [0.34769138, 0.69891682, 0.84056625],\n",
      "       [0.08752787, 0.02477036, 0.50719362]]), array([[0.60939905, 0.89651282, 0.72412171],\n",
      "       [0.69891682, 0.84056625, 0.46761186],\n",
      "       [0.02477036, 0.50719362, 0.94364133]]), array([[0.89651282, 0.72412171, 0.5034454 ],\n",
      "       [0.84056625, 0.46761186, 0.44201403],\n",
      "       [0.50719362, 0.94364133, 0.69772203]]), array([[0.72412171, 0.5034454 , 0.24631132],\n",
      "       [0.46761186, 0.44201403, 0.58179472],\n",
      "       [0.94364133, 0.69772203, 0.14579065]]), array([[0.5034454 , 0.24631132, 0.06229978],\n",
      "       [0.44201403, 0.58179472, 0.19211165],\n",
      "       [0.69772203, 0.14579065, 0.67734166]]), array([[0.24631132, 0.06229978, 0.53519764],\n",
      "       [0.58179472, 0.19211165, 0.27979787],\n",
      "       [0.14579065, 0.67734166, 0.83503148]]), array([[0.06229978, 0.53519764, 0.95068136],\n",
      "       [0.19211165, 0.27979787, 0.75751041],\n",
      "       [0.67734166, 0.83503148, 0.21454479]]), array([[0.53519764, 0.95068136, 0.87832221],\n",
      "       [0.27979787, 0.75751041, 0.18073344],\n",
      "       [0.83503148, 0.21454479, 0.87840421]]), array([[0.34769138, 0.69891682, 0.84056625],\n",
      "       [0.08752787, 0.02477036, 0.50719362],\n",
      "       [0.27280658, 0.02489859, 0.11192664]]), array([[0.69891682, 0.84056625, 0.46761186],\n",
      "       [0.02477036, 0.50719362, 0.94364133],\n",
      "       [0.02489859, 0.11192664, 0.87921826]]), array([[0.84056625, 0.46761186, 0.44201403],\n",
      "       [0.50719362, 0.94364133, 0.69772203],\n",
      "       [0.11192664, 0.87921826, 0.56393697]]), array([[0.46761186, 0.44201403, 0.58179472],\n",
      "       [0.94364133, 0.69772203, 0.14579065],\n",
      "       [0.87921826, 0.56393697, 0.34450352]]), array([[0.44201403, 0.58179472, 0.19211165],\n",
      "       [0.69772203, 0.14579065, 0.67734166],\n",
      "       [0.56393697, 0.34450352, 0.5438619 ]]), array([[0.58179472, 0.19211165, 0.27979787],\n",
      "       [0.14579065, 0.67734166, 0.83503148],\n",
      "       [0.34450352, 0.5438619 , 0.25466129]]), array([[0.19211165, 0.27979787, 0.75751041],\n",
      "       [0.67734166, 0.83503148, 0.21454479],\n",
      "       [0.5438619 , 0.25466129, 0.00931189]]), array([[0.27979787, 0.75751041, 0.18073344],\n",
      "       [0.83503148, 0.21454479, 0.87840421],\n",
      "       [0.25466129, 0.00931189, 0.82607834]]), array([[0.08752787, 0.02477036, 0.50719362],\n",
      "       [0.27280658, 0.02489859, 0.11192664],\n",
      "       [0.14676934, 0.23010808, 0.45001012]]), array([[0.02477036, 0.50719362, 0.94364133],\n",
      "       [0.02489859, 0.11192664, 0.87921826],\n",
      "       [0.23010808, 0.45001012, 0.23479444]]), array([[0.50719362, 0.94364133, 0.69772203],\n",
      "       [0.11192664, 0.87921826, 0.56393697],\n",
      "       [0.45001012, 0.23479444, 0.26397794]]), array([[0.94364133, 0.69772203, 0.14579065],\n",
      "       [0.87921826, 0.56393697, 0.34450352],\n",
      "       [0.23479444, 0.26397794, 0.38884383]]), array([[0.69772203, 0.14579065, 0.67734166],\n",
      "       [0.56393697, 0.34450352, 0.5438619 ],\n",
      "       [0.26397794, 0.38884383, 0.65487545]]), array([[0.14579065, 0.67734166, 0.83503148],\n",
      "       [0.34450352, 0.5438619 , 0.25466129],\n",
      "       [0.38884383, 0.65487545, 0.27506264]]), array([[0.67734166, 0.83503148, 0.21454479],\n",
      "       [0.5438619 , 0.25466129, 0.00931189],\n",
      "       [0.65487545, 0.27506264, 0.39100787]]), array([[0.83503148, 0.21454479, 0.87840421],\n",
      "       [0.25466129, 0.00931189, 0.82607834],\n",
      "       [0.27506264, 0.39100787, 0.53199084]]), array([[0.27280658, 0.02489859, 0.11192664],\n",
      "       [0.14676934, 0.23010808, 0.45001012],\n",
      "       [0.4823932 , 0.07377548, 0.6444038 ]]), array([[0.02489859, 0.11192664, 0.87921826],\n",
      "       [0.23010808, 0.45001012, 0.23479444],\n",
      "       [0.07377548, 0.6444038 , 0.49238918]]), array([[0.11192664, 0.87921826, 0.56393697],\n",
      "       [0.45001012, 0.23479444, 0.26397794],\n",
      "       [0.6444038 , 0.49238918, 0.04481034]]), array([[0.87921826, 0.56393697, 0.34450352],\n",
      "       [0.23479444, 0.26397794, 0.38884383],\n",
      "       [0.49238918, 0.04481034, 0.08916644]]), array([[0.56393697, 0.34450352, 0.5438619 ],\n",
      "       [0.26397794, 0.38884383, 0.65487545],\n",
      "       [0.04481034, 0.08916644, 0.98343397]]), array([[0.34450352, 0.5438619 , 0.25466129],\n",
      "       [0.38884383, 0.65487545, 0.27506264],\n",
      "       [0.08916644, 0.98343397, 0.65598117]]), array([[0.5438619 , 0.25466129, 0.00931189],\n",
      "       [0.65487545, 0.27506264, 0.39100787],\n",
      "       [0.98343397, 0.65598117, 0.66023759]]), array([[0.25466129, 0.00931189, 0.82607834],\n",
      "       [0.27506264, 0.39100787, 0.53199084],\n",
      "       [0.65598117, 0.66023759, 0.06010883]]), array([[0.14676934, 0.23010808, 0.45001012],\n",
      "       [0.4823932 , 0.07377548, 0.6444038 ],\n",
      "       [0.61910043, 0.39265863, 0.60484174]]), array([[0.23010808, 0.45001012, 0.23479444],\n",
      "       [0.07377548, 0.6444038 , 0.49238918],\n",
      "       [0.39265863, 0.60484174, 0.92231889]]), array([[0.45001012, 0.23479444, 0.26397794],\n",
      "       [0.6444038 , 0.49238918, 0.04481034],\n",
      "       [0.60484174, 0.92231889, 0.27228903]]), array([[0.23479444, 0.26397794, 0.38884383],\n",
      "       [0.49238918, 0.04481034, 0.08916644],\n",
      "       [0.92231889, 0.27228903, 0.29306622]]), array([[0.26397794, 0.38884383, 0.65487545],\n",
      "       [0.04481034, 0.08916644, 0.98343397],\n",
      "       [0.27228903, 0.29306622, 0.52295635]]), array([[0.38884383, 0.65487545, 0.27506264],\n",
      "       [0.08916644, 0.98343397, 0.65598117],\n",
      "       [0.29306622, 0.52295635, 0.19004842]]), array([[0.65487545, 0.27506264, 0.39100787],\n",
      "       [0.98343397, 0.65598117, 0.66023759],\n",
      "       [0.52295635, 0.19004842, 0.71328922]]), array([[0.27506264, 0.39100787, 0.53199084],\n",
      "       [0.65598117, 0.66023759, 0.06010883],\n",
      "       [0.19004842, 0.71328922, 0.33412832]]), array([[0.4823932 , 0.07377548, 0.6444038 ],\n",
      "       [0.61910043, 0.39265863, 0.60484174],\n",
      "       [0.5473121 , 0.41501938, 0.82425948]]), array([[0.07377548, 0.6444038 , 0.49238918],\n",
      "       [0.39265863, 0.60484174, 0.92231889],\n",
      "       [0.41501938, 0.82425948, 0.02276286]]), array([[0.6444038 , 0.49238918, 0.04481034],\n",
      "       [0.60484174, 0.92231889, 0.27228903],\n",
      "       [0.82425948, 0.02276286, 0.85722376]]), array([[0.49238918, 0.04481034, 0.08916644],\n",
      "       [0.92231889, 0.27228903, 0.29306622],\n",
      "       [0.02276286, 0.85722376, 0.91820457]]), array([[0.04481034, 0.08916644, 0.98343397],\n",
      "       [0.27228903, 0.29306622, 0.52295635],\n",
      "       [0.85722376, 0.91820457, 0.54003678]]), array([[0.08916644, 0.98343397, 0.65598117],\n",
      "       [0.29306622, 0.52295635, 0.19004842],\n",
      "       [0.91820457, 0.54003678, 0.06840801]]), array([[0.98343397, 0.65598117, 0.66023759],\n",
      "       [0.52295635, 0.19004842, 0.71328922],\n",
      "       [0.54003678, 0.06840801, 0.16056277]]), array([[0.65598117, 0.66023759, 0.06010883],\n",
      "       [0.19004842, 0.71328922, 0.33412832],\n",
      "       [0.06840801, 0.16056277, 0.12817239]])]\n",
      "64\n"
     ]
    }
   ],
   "source": [
    "A = np.random.rand(10,10)\n",
    "rows, cols = np.shape(A)\n",
    "n = 3\n",
    "blocks = []\n",
    "for i in range(rows):\n",
    "    for j in range(cols):\n",
    "        if i+2 < rows and j+2 < cols:\n",
    "            blocks.append(A[i:i+3, j:j+3])\n",
    "print(blocks)\n",
    "print(len(blocks))\n"
   ]
  },
  {
   "cell_type": "markdown",
   "id": "845ad7f8",
   "metadata": {},
   "source": [
    "#### 85. Create a 2D array subclass such that Z[i,j] == Z[j,i] (★★★)"
   ]
  },
  {
   "cell_type": "code",
   "execution_count": null,
   "id": "30b1ba71",
   "metadata": {},
   "outputs": [],
   "source": []
  },
  {
   "cell_type": "markdown",
   "id": "adc48f02",
   "metadata": {},
   "source": [
    "#### 86. Consider a set of p matrices with shape (n,n) and a set of p vectors with shape (n,1). How to compute the sum of of the p matrix products at once? (result has shape (n,1)) (★★★)"
   ]
  },
  {
   "cell_type": "code",
   "execution_count": null,
   "id": "ec798e90",
   "metadata": {},
   "outputs": [],
   "source": []
  },
  {
   "cell_type": "markdown",
   "id": "9efb34b2",
   "metadata": {},
   "source": [
    "#### 87. Consider a 16x16 array, how to get the block-sum (block size is 4x4)? (★★★)"
   ]
  },
  {
   "cell_type": "code",
   "execution_count": 93,
   "id": "ea79f40b",
   "metadata": {},
   "outputs": [
    {
     "name": "stdout",
     "output_type": "stream",
     "text": [
      "[np.float64(4.123437161499012), np.float64(4.7725361198322265), np.float64(3.86082008036085), np.float64(4.6593716994910155), np.float64(2.88990016769294), np.float64(3.406885112491349), np.float64(5.435141126662678), np.float64(6.217466606772987), np.float64(5.584312841971486), np.float64(4.207198922687504), np.float64(5.111701350784927), np.float64(3.7345189337373936), np.float64(5.198580437109104), np.float64(3.80218455304747), np.float64(4.208835307687874), np.float64(3.8660368586089042)]\n"
     ]
    },
    {
     "data": {
      "text/plain": [
       "16"
      ]
     },
     "execution_count": 93,
     "metadata": {},
     "output_type": "execute_result"
    }
   ],
   "source": [
    "A = np.random.rand(16,16)\n",
    "rows, cols = np.shape(A)\n",
    "n = 4\n",
    "block_sums = []\n",
    "for i in range(0,rows,n):\n",
    "    for j in range(0,cols,n):\n",
    "        if i+n-1 < rows and j+n-1 < cols:\n",
    "            block_sums.append(np.sum(A[i:i+n-1, j:j+n-1]))\n",
    "print(block_sums)\n",
    "len(block_sums)"
   ]
  },
  {
   "cell_type": "markdown",
   "id": "a9368578",
   "metadata": {},
   "source": [
    "#### 88. How to implement the Game of Life using numpy arrays? (★★★)"
   ]
  },
  {
   "cell_type": "code",
   "execution_count": null,
   "id": "315e9f11",
   "metadata": {},
   "outputs": [],
   "source": []
  },
  {
   "cell_type": "markdown",
   "id": "8c598af3",
   "metadata": {},
   "source": [
    "#### 89. How to get the n largest values of an array (★★★)"
   ]
  },
  {
   "cell_type": "code",
   "execution_count": 95,
   "id": "cba8d433",
   "metadata": {},
   "outputs": [
    {
     "name": "stdout",
     "output_type": "stream",
     "text": [
      "[5 6 9]\n"
     ]
    }
   ],
   "source": [
    "array = np.array([1,2,2,5,6,9,2,3,3])\n",
    "n = 3\n",
    "print(np.sort(array)[-n:])"
   ]
  },
  {
   "cell_type": "markdown",
   "id": "036a3bb0",
   "metadata": {},
   "source": [
    "#### 90. Given an arbitrary number of vectors, build the cartesian product (every combination of every item) (★★★)"
   ]
  },
  {
   "cell_type": "code",
   "execution_count": null,
   "id": "d712972d",
   "metadata": {},
   "outputs": [],
   "source": [
    "vectors = np.array([[1,2,3], [4,5,6], [7,8,9]])\n",
    "num_vecs, vec_length = np.shape(vectors)\n",
    "result = []\n",
    "# get cartesian product\n",
    "for i in  range(num_vecs):\n",
    "    for j in range(vec_length):\n",
    "        \n",
    "\n",
    "    \n",
    "\n"
   ]
  },
  {
   "cell_type": "markdown",
   "id": "36487aab",
   "metadata": {},
   "source": [
    "#### 91. How to create a record array from a regular array? (★★★)"
   ]
  },
  {
   "cell_type": "code",
   "execution_count": null,
   "id": "9779dbac",
   "metadata": {},
   "outputs": [],
   "source": []
  },
  {
   "cell_type": "markdown",
   "id": "9f178562",
   "metadata": {},
   "source": [
    "#### 92. Consider a large vector Z, compute Z to the power of 3 using 3 different methods (★★★)"
   ]
  },
  {
   "cell_type": "code",
   "execution_count": null,
   "id": "b08000b8",
   "metadata": {},
   "outputs": [],
   "source": []
  },
  {
   "cell_type": "markdown",
   "id": "86acaf60",
   "metadata": {},
   "source": [
    "#### 93. Consider two arrays A and B of shape (8,3) and (2,2). How to find rows of A that contain elements of each row of B regardless of the order of the elements in B? (★★★)"
   ]
  },
  {
   "cell_type": "code",
   "execution_count": null,
   "id": "793b26d4",
   "metadata": {},
   "outputs": [],
   "source": []
  },
  {
   "cell_type": "markdown",
   "id": "c71b9df2",
   "metadata": {},
   "source": [
    "#### 94. Considering a 10x3 matrix, extract rows with unequal values (e.g. [2,2,3]) (★★★)"
   ]
  },
  {
   "cell_type": "code",
   "execution_count": null,
   "id": "494069f0",
   "metadata": {},
   "outputs": [],
   "source": []
  },
  {
   "cell_type": "markdown",
   "id": "1a8ae7c1",
   "metadata": {},
   "source": [
    "#### 95. Convert a vector of ints into a matrix binary representation (★★★)"
   ]
  },
  {
   "cell_type": "code",
   "execution_count": null,
   "id": "d5e967b8",
   "metadata": {},
   "outputs": [],
   "source": []
  },
  {
   "cell_type": "markdown",
   "id": "edef1198",
   "metadata": {},
   "source": [
    "#### 96. Given a two dimensional array, how to extract unique rows? (★★★)"
   ]
  },
  {
   "cell_type": "code",
   "execution_count": 101,
   "id": "fa14799b",
   "metadata": {},
   "outputs": [
    {
     "name": "stdout",
     "output_type": "stream",
     "text": [
      "[array([1, 2, 3]), array([4, 5, 6]), array([7, 8, 9])]\n"
     ]
    }
   ],
   "source": [
    "array = np.array([[1,2,3],\n",
    "                  [4,5,6],\n",
    "                  [7,8,9],\n",
    "                  [1,2,3],\n",
    "                  [4,5,6]])\n",
    "unique_rows = []\n",
    "for row in array:\n",
    "    in_unique = False\n",
    "    for unique_row in unique_rows:\n",
    "        # print(unique_row)\n",
    "        # print(row)\n",
    "        equality = (unique_row == row)\n",
    "        if equality.all():\n",
    "            in_unique = True\n",
    "    if not in_unique:\n",
    "        unique_rows.append(row)\n",
    "\n",
    "\n",
    "print(unique_rows)"
   ]
  },
  {
   "cell_type": "markdown",
   "id": "575598a1",
   "metadata": {},
   "source": [
    "#### 97. Considering 2 vectors A & B, write the einsum equivalent of inner, outer, sum, and mul function (★★★)"
   ]
  },
  {
   "cell_type": "code",
   "execution_count": null,
   "id": "9da72f6e",
   "metadata": {},
   "outputs": [],
   "source": []
  },
  {
   "cell_type": "markdown",
   "id": "88e2796a",
   "metadata": {},
   "source": [
    "#### 98. Considering a path described by two vectors (X,Y), how to sample it using equidistant samples (★★★)?"
   ]
  },
  {
   "cell_type": "code",
   "execution_count": null,
   "id": "c17314f8",
   "metadata": {},
   "outputs": [],
   "source": []
  },
  {
   "cell_type": "markdown",
   "id": "8b25b7bd",
   "metadata": {},
   "source": [
    "#### 99. Given an integer n and a 2D array X, select from X the rows which can be interpreted as draws from a multinomial distribution with n degrees, i.e., the rows which only contain integers and which sum to n. (★★★)"
   ]
  },
  {
   "cell_type": "code",
   "execution_count": null,
   "id": "f0dc48cd",
   "metadata": {},
   "outputs": [],
   "source": []
  },
  {
   "cell_type": "markdown",
   "id": "b7068c76",
   "metadata": {},
   "source": [
    "#### 100. Compute bootstrapped 95% confidence intervals for the mean of a 1D array X (i.e., resample the elements of an array with replacement N times, compute the mean of each sample, and then compute percentiles over the means). (★★★)"
   ]
  },
  {
   "cell_type": "code",
   "execution_count": null,
   "id": "3c234201",
   "metadata": {},
   "outputs": [],
   "source": []
  }
 ],
 "metadata": {
  "kernelspec": {
   "display_name": "envavi",
   "language": "python",
   "name": "python3"
  },
  "language_info": {
   "codemirror_mode": {
    "name": "ipython",
    "version": 3
   },
   "file_extension": ".py",
   "mimetype": "text/x-python",
   "name": "python",
   "nbconvert_exporter": "python",
   "pygments_lexer": "ipython3",
   "version": "3.13.2"
  }
 },
 "nbformat": 4,
 "nbformat_minor": 5
}
